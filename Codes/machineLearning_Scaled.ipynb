{
 "cells": [
  {
   "cell_type": "code",
   "execution_count": 1,
   "id": "2514fec1",
   "metadata": {},
   "outputs": [],
   "source": [
    "# imports\n",
    "import pandas as pd\n",
    "import numpy as np\n",
    "\n",
    "from sklearn.model_selection import train_test_split\n",
    "from sklearn.linear_model import LinearRegression\n",
    "from sklearn.ensemble import RandomForestRegressor\n",
    "from sklearn.feature_selection import SelectFromModel\n",
    "from sklearn.preprocessing import StandardScaler\n",
    "\n",
    "from sklearn.metrics import mean_absolute_error, mean_squared_error,r2_score\n",
    "from math import sqrt"
   ]
  },
  {
   "cell_type": "code",
   "execution_count": 2,
   "id": "715eb536",
   "metadata": {},
   "outputs": [
    {
     "data": {
      "text/plain": [
       "Index(['Date', 'counts_trips', 'counts_Bike', 'trip_duration',\n",
       "       'counts_member_annual', 'counts_member_casual', 'W_Temp_Max',\n",
       "       'W_Temp_Avg', 'W_Temp_Min', 'W_Max_wind', 'W_Avg_wind', 'W_Min_wind',\n",
       "       'W_Wind_Gust', 'W_Air_Pressure', 'W_Snow_Depth', 'W_Max_humid',\n",
       "       'W_Avg_humid', 'W_Min_humid', 'W_Max_Dp', 'W_Avg_dp', 'W_Min_Dp'],\n",
       "      dtype='object')"
      ]
     },
     "execution_count": 2,
     "metadata": {},
     "output_type": "execute_result"
    }
   ],
   "source": [
    "df_0 = pd.read_csv('../Resources/Bike_weather_merge.csv')\n",
    "df_0.columns"
   ]
  },
  {
   "cell_type": "code",
   "execution_count": 3,
   "id": "d48f8208",
   "metadata": {},
   "outputs": [
    {
     "data": {
      "text/plain": [
       "False"
      ]
     },
     "execution_count": 3,
     "metadata": {},
     "output_type": "execute_result"
    }
   ],
   "source": [
    "# double check if any nan values\n",
    "df_0.isnull().values.any()"
   ]
  },
  {
   "cell_type": "markdown",
   "id": "4ae200d4",
   "metadata": {},
   "source": [
    "## Approach 1: \n",
    "y = counts_trips  \n",
    "X = except counts_trips"
   ]
  },
  {
   "cell_type": "code",
   "execution_count": 4,
   "id": "6b7d0b84",
   "metadata": {},
   "outputs": [
    {
     "name": "stdout",
     "output_type": "stream",
     "text": [
      "X.shape: (1096, 19).\n",
      "y.shape: (1096,).\n"
     ]
    }
   ],
   "source": [
    "# split features X and output y (counts_trips)\n",
    "X = df_0.drop(columns=['counts_trips','Date'])\n",
    "y = df_0['counts_trips']\n",
    "print(f'X.shape: {X.shape}.')\n",
    "print(f'y.shape: {y.shape}.')"
   ]
  },
  {
   "cell_type": "code",
   "execution_count": 5,
   "id": "16e1e4bc",
   "metadata": {},
   "outputs": [
    {
     "name": "stdout",
     "output_type": "stream",
     "text": [
      "X_train: (822, 19).\n",
      "X_test: (274, 19).\n",
      "y_train: (822,).\n",
      "y_test: (274,).\n"
     ]
    }
   ],
   "source": [
    "X_train, X_test, y_train, y_test = train_test_split(X, y, random_state=78)\n",
    "print(f'X_train: {X_train.shape}.')\n",
    "print(f'X_test: {X_test.shape}.')\n",
    "print(f'y_train: {y_train.shape}.')\n",
    "print(f'y_test: {y_test.shape}.')"
   ]
  },
  {
   "cell_type": "code",
   "execution_count": 6,
   "id": "1241d578",
   "metadata": {},
   "outputs": [],
   "source": [
    "scaler = StandardScaler()\n",
    "X_train_scaled = scaler.fit_transform(X_train)\n",
    "X_test_scaled = scaler.fit_transform(X_test)"
   ]
  },
  {
   "cell_type": "code",
   "execution_count": 7,
   "id": "cc61d864",
   "metadata": {},
   "outputs": [],
   "source": [
    "# Linear Regression model\n",
    "model_lr = LinearRegression()\n",
    "model_lr.fit(X_train_scaled, y_train)\n",
    "y_pred = model_lr.predict(X_train_scaled)"
   ]
  },
  {
   "cell_type": "code",
   "execution_count": 8,
   "id": "7abfccdb",
   "metadata": {},
   "outputs": [
    {
     "name": "stdout",
     "output_type": "stream",
     "text": [
      "model: Linear Regression\n",
      "-----------------------------\n",
      "Mean absolute error: 1.2590748125091285e-11\n",
      "Mean squared error: 2.2875493674201035e-22\n",
      "Root mean squared error:1.512464666503024e-11\n",
      "R2 score:1.0\n",
      "Overall model score: 0.9990508116437439\n"
     ]
    }
   ],
   "source": [
    "# evaluation - linear regression\n",
    "mae = mean_absolute_error(y_train, y_pred)\n",
    "mse = mean_squared_error(y_train, y_pred)\n",
    "rmse = sqrt(mse)\n",
    "r2 = r2_score(y_train, y_pred)\n",
    "overall = model_lr.score(X_test_scaled, y_test)\n",
    "print(\"model: Linear Regression\")\n",
    "print(\"-----------------------------\")\n",
    "print(f'Mean absolute error: {mae}')\n",
    "print(f'Mean squared error: {mse}')\n",
    "print(f'Root mean squared error:{rmse}')\n",
    "print(f'R2 score:{r2}')\n",
    "print(f'Overall model score: {overall}')"
   ]
  },
  {
   "cell_type": "code",
   "execution_count": null,
   "id": "2c730a32",
   "metadata": {},
   "outputs": [],
   "source": [
    "## ? LR: how to get the model function to display the features' weight?"
   ]
  },
  {
   "cell_type": "code",
   "execution_count": 9,
   "id": "dc3e2dd7",
   "metadata": {},
   "outputs": [],
   "source": [
    "# Random forest model\n",
    "model_rf = RandomForestRegressor(random_state=78)\n",
    "model_rf.fit(X_train_scaled, y_train)\n",
    "y_pred = model_rf.predict(X_train_scaled)"
   ]
  },
  {
   "cell_type": "code",
   "execution_count": 10,
   "id": "8d92cd14",
   "metadata": {},
   "outputs": [
    {
     "name": "stdout",
     "output_type": "stream",
     "text": [
      "model: Random Forest\n",
      "-----------------------------\n",
      "Mean absolute error: 115.39380778588807\n",
      "Mean squared error: 32370.338569708052\n",
      "Root mean squared error:179.9175882722644\n",
      "R2 score:0.9989721111553218\n",
      "Overall model score: 0.9930775295904674\n",
      "feature_importances: [5.90177755e-01 3.58809921e-01 1.56380136e-02 2.86878262e-02\n",
      " 1.20506176e-03 1.06582562e-03 6.69166457e-04 3.94533907e-04\n",
      " 4.22385059e-04 1.78078389e-04 4.24713083e-04 4.23978869e-04\n",
      " 1.17643138e-05 2.14067986e-04 3.41503259e-04 3.29013061e-04\n",
      " 3.10686332e-04 4.47199396e-04 2.48507100e-04]\n",
      "n_features: 19\n",
      "n_outputs: 1\n"
     ]
    }
   ],
   "source": [
    "# evaluation : Random Forest\n",
    "mae = mean_absolute_error(y_train, y_pred)\n",
    "mse = mean_squared_error(y_train, y_pred)\n",
    "rmse = sqrt(mse)\n",
    "r2 = r2_score(y_train, y_pred)\n",
    "overall = model_rf.score(X_test_scaled, y_test)\n",
    "print(\"model: Random Forest\")\n",
    "print(\"-----------------------------\")\n",
    "print(f'Mean absolute error: {mae}')\n",
    "print(f'Mean squared error: {mse}')\n",
    "print(f'Root mean squared error:{rmse}')\n",
    "print(f'R2 score:{r2}')\n",
    "print(f'Overall model score: {overall}')\n",
    "print (\"feature_importances:\",model_rf.feature_importances_)\n",
    "print (\"n_features:\",model_rf.n_features_)\n",
    "print (\"n_outputs:\",model_rf.n_outputs_) \n"
   ]
  },
  {
   "cell_type": "code",
   "execution_count": 11,
   "id": "b333aaae",
   "metadata": {
    "scrolled": true
   },
   "outputs": [
    {
     "name": "stdout",
     "output_type": "stream",
     "text": [
      "[5.90177755e-01 3.58809921e-01 1.56380136e-02 2.86878262e-02\n",
      " 1.20506176e-03 1.06582562e-03 6.69166457e-04 3.94533907e-04\n",
      " 4.22385059e-04 1.78078389e-04 4.24713083e-04 4.23978869e-04\n",
      " 1.17643138e-05 2.14067986e-04 3.41503259e-04 3.29013061e-04\n",
      " 3.10686332e-04 4.47199396e-04 2.48507100e-04]\n"
     ]
    }
   ],
   "source": [
    "features = model_rf.feature_importances_\n",
    "print(features)"
   ]
  },
  {
   "cell_type": "markdown",
   "id": "c1491fcb",
   "metadata": {},
   "source": [
    "### Result :  \n",
    "y=trip counts, most weighted features are bike counts, durations,no much based on the weather conditions.  \n",
    "Approach 1 : X \n"
   ]
  },
  {
   "cell_type": "markdown",
   "id": "37948ff3",
   "metadata": {},
   "source": [
    "## Approach 2\n",
    "Approach 2: y = duration, X= avg_temp, avg_wind, wind_gust, air_pressure, snow, avg_humid, avg_dp"
   ]
  },
  {
   "cell_type": "code",
   "execution_count": 12,
   "id": "45ee7918",
   "metadata": {},
   "outputs": [
    {
     "name": "stdout",
     "output_type": "stream",
     "text": [
      "X2.shape: (1096, 7).\n",
      "y2.shape: (1096,).\n"
     ]
    }
   ],
   "source": [
    "y2 = df_0['trip_duration']\n",
    "X2 = df_0.drop(columns=['trip_duration','Date','counts_trips','counts_Bike','counts_member_annual','counts_member_casual', 'W_Temp_Max','W_Temp_Min', 'W_Max_wind','W_Min_wind', 'W_Max_humid','W_Min_humid', 'W_Max_Dp','W_Min_Dp'])\n",
    "print(f'X2.shape: {X2.shape}.')\n",
    "print(f'y2.shape: {y2.shape}.')"
   ]
  },
  {
   "cell_type": "code",
   "execution_count": 13,
   "id": "f3f74f9c",
   "metadata": {},
   "outputs": [
    {
     "name": "stdout",
     "output_type": "stream",
     "text": [
      "X_train: (822, 7).\n",
      "X_test: (274, 7).\n",
      "y_train: (822,).\n",
      "y_test: (274,).\n"
     ]
    }
   ],
   "source": [
    "X_train, X_test, y_train, y_test = train_test_split(X2, y2, random_state=78)\n",
    "print(f'X_train: {X_train.shape}.')\n",
    "print(f'X_test: {X_test.shape}.')\n",
    "print(f'y_train: {y_train.shape}.')\n",
    "print(f'y_test: {y_test.shape}.')"
   ]
  },
  {
   "cell_type": "code",
   "execution_count": 14,
   "id": "2cb4328e",
   "metadata": {},
   "outputs": [],
   "source": [
    "scaler = StandardScaler()\n",
    "X_train_scaled = scaler.fit_transform(X_train)\n",
    "X_test_scaled = scaler.fit_transform(X_test)"
   ]
  },
  {
   "cell_type": "code",
   "execution_count": 15,
   "id": "188a5b02",
   "metadata": {},
   "outputs": [],
   "source": [
    "# Linear Regression\n",
    "model_lr = LinearRegression()\n",
    "model_lr.fit(X_train_scaled, y_train)\n",
    "y_pred = model_lr.predict(X_train_scaled)"
   ]
  },
  {
   "cell_type": "code",
   "execution_count": 16,
   "id": "e482e831",
   "metadata": {},
   "outputs": [
    {
     "name": "stdout",
     "output_type": "stream",
     "text": [
      "model: Linear Regression\n",
      "-----------------------------\n",
      "Mean absolute error: 2898617.805196142\n",
      "Mean squared error: 19112705117582.133\n",
      "Root mean squared error:4371807.991847553\n",
      "R2 score:0.6616061601424754\n",
      "Overall model score: 0.6097767360018245\n"
     ]
    }
   ],
   "source": [
    "# evaluation - linear regression\n",
    "mae = mean_absolute_error(y_train, y_pred)\n",
    "mse = mean_squared_error(y_train, y_pred)\n",
    "rmse = sqrt(mse)\n",
    "r2 = r2_score(y_train, y_pred)\n",
    "overall = model_lr.score(X_test_scaled, y_test)\n",
    "print(\"model: Linear Regression\")\n",
    "print(\"-----------------------------\")\n",
    "print(f'Mean absolute error: {mae}')\n",
    "print(f'Mean squared error: {mse}')\n",
    "print(f'Root mean squared error:{rmse}')\n",
    "print(f'R2 score:{r2}')\n",
    "print(f'Overall model score: {overall}')"
   ]
  },
  {
   "cell_type": "code",
   "execution_count": 17,
   "id": "08971592",
   "metadata": {},
   "outputs": [],
   "source": [
    "# Random Forest\n",
    "model_rf = RandomForestRegressor(random_state=78)\n",
    "model_rf.fit(X_train_scaled, y_train)\n",
    "y_pred = model_rf.predict(X_train_scaled)"
   ]
  },
  {
   "cell_type": "code",
   "execution_count": 18,
   "id": "742a0512",
   "metadata": {
    "scrolled": true
   },
   "outputs": [
    {
     "name": "stdout",
     "output_type": "stream",
     "text": [
      "model: Random Forest\n",
      "-----------------------------\n",
      "Mean absolute error: 1048141.4951094891\n",
      "Mean squared error: 2810649367460.835\n",
      "Root mean squared error:1676499.1403101985\n",
      "R2 score:0.95023695358156\n",
      "Overall model score: 0.6284541501908161\n",
      "feature_importances: [0.69310303 0.04746964 0.04085829 0.06743581 0.00131287 0.10377995\n",
      " 0.04604042]\n",
      "n_features: 7\n",
      "n_outputs: 1\n"
     ]
    }
   ],
   "source": [
    "# evaluation : Random Forest\n",
    "mae = mean_absolute_error(y_train, y_pred)\n",
    "mse = mean_squared_error(y_train, y_pred)\n",
    "rmse = sqrt(mse)\n",
    "r2 = r2_score(y_train, y_pred)\n",
    "overall = model_rf.score(X_test_scaled, y_test)\n",
    "print(\"model: Random Forest\")\n",
    "print(\"-----------------------------\")\n",
    "print(f'Mean absolute error: {mae}')\n",
    "print(f'Mean squared error: {mse}')\n",
    "print(f'Root mean squared error:{rmse}')\n",
    "print(f'R2 score:{r2}')\n",
    "print(f'Overall model score: {overall}')\n",
    "print (\"feature_importances:\",model_rf.feature_importances_)\n",
    "print (\"n_features:\",model_rf.n_features_)\n",
    "print (\"n_outputs:\",model_rf.n_outputs_) \n"
   ]
  },
  {
   "cell_type": "markdown",
   "id": "3f1b2bea",
   "metadata": {},
   "source": [
    "### Results:\n",
    "Approach 2: rmse too large: variance too far away from true value. \n",
    "rf > lr"
   ]
  },
  {
   "cell_type": "markdown",
   "id": "e705e3a5",
   "metadata": {},
   "source": [
    "## Appraoch 3 : \n",
    "y = counts_bike:\n",
    "X = avg_temp, avg_wind, avg_humid, wind_gust, avg_dp, snow, air_pressure"
   ]
  },
  {
   "cell_type": "code",
   "execution_count": 19,
   "id": "305c499b",
   "metadata": {},
   "outputs": [
    {
     "name": "stdout",
     "output_type": "stream",
     "text": [
      "X3.shape: (1096, 7).\n",
      "y3.shape: (1096,).\n"
     ]
    },
    {
     "data": {
      "text/plain": [
       "Index(['W_Temp_Avg', 'W_Avg_wind', 'W_Wind_Gust', 'W_Air_Pressure',\n",
       "       'W_Snow_Depth', 'W_Avg_humid', 'W_Avg_dp'],\n",
       "      dtype='object')"
      ]
     },
     "execution_count": 19,
     "metadata": {},
     "output_type": "execute_result"
    }
   ],
   "source": [
    "y3 = df_0['counts_Bike']\n",
    "X3 = df_0.drop(columns=['Date', 'counts_trips','trip_duration','counts_Bike',\n",
    "       'counts_member_annual', 'counts_member_casual', 'W_Temp_Max','W_Temp_Min', 'W_Max_wind','W_Min_wind','W_Max_humid','W_Min_humid', 'W_Max_Dp','W_Min_Dp' ])\n",
    "print(f'X3.shape: {X3.shape}.')\n",
    "print(f'y3.shape: {y3.shape}.')\n",
    "X3.columns"
   ]
  },
  {
   "cell_type": "code",
   "execution_count": 20,
   "id": "6b831fe4",
   "metadata": {
    "scrolled": true
   },
   "outputs": [
    {
     "name": "stdout",
     "output_type": "stream",
     "text": [
      "X_train: (822, 7).\n",
      "X_test: (274, 7).\n",
      "y_train: (822,).\n",
      "y_test: (274,).\n"
     ]
    }
   ],
   "source": [
    "X_train, X_test, y_train, y_test = train_test_split(X3, y3, random_state=78)\n",
    "print(f'X_train: {X_train.shape}.')\n",
    "print(f'X_test: {X_test.shape}.')\n",
    "print(f'y_train: {y_train.shape}.')\n",
    "print(f'y_test: {y_test.shape}.')"
   ]
  },
  {
   "cell_type": "code",
   "execution_count": 21,
   "id": "e99f3fb8",
   "metadata": {},
   "outputs": [],
   "source": [
    "scaler = StandardScaler()\n",
    "X_train_scaled = scaler.fit_transform(X_train)\n",
    "X_test_scaled = scaler.fit_transform(X_test)"
   ]
  },
  {
   "cell_type": "code",
   "execution_count": 22,
   "id": "f4b7ee1a",
   "metadata": {},
   "outputs": [],
   "source": [
    "# Linear Regression\n",
    "model_lr = LinearRegression()\n",
    "model_lr.fit(X_train_scaled, y_train)\n",
    "y_pred = model_lr.predict(X_train_scaled)"
   ]
  },
  {
   "cell_type": "code",
   "execution_count": 23,
   "id": "d9c54c90",
   "metadata": {},
   "outputs": [
    {
     "name": "stdout",
     "output_type": "stream",
     "text": [
      "model: Linear Regression\n",
      "-----------------------------\n",
      "Mean absolute error: 433.92907921008015\n",
      "Mean squared error: 284447.2566283849\n",
      "Root mean squared error:533.3359697492613\n",
      "R2 score:0.758401916574934\n",
      "Overall model score: 0.7501880888859891\n"
     ]
    }
   ],
   "source": [
    "# evaluation - linear regression\n",
    "mae = mean_absolute_error(y_train, y_pred)\n",
    "mse = mean_squared_error(y_train, y_pred)\n",
    "rmse = sqrt(mse)\n",
    "r2 = r2_score(y_train, y_pred)\n",
    "overall = model_lr.score(X_test_scaled, y_test)\n",
    "print(\"model: Linear Regression\")\n",
    "print(\"-----------------------------\")\n",
    "print(f'Mean absolute error: {mae}')\n",
    "print(f'Mean squared error: {mse}')\n",
    "print(f'Root mean squared error:{rmse}')\n",
    "print(f'R2 score:{r2}')\n",
    "print(f'Overall model score: {overall}')"
   ]
  },
  {
   "cell_type": "code",
   "execution_count": 25,
   "id": "d6c60499",
   "metadata": {},
   "outputs": [],
   "source": [
    "# Random Forest\n",
    "model_rf = RandomForestRegressor(random_state=78)\n",
    "model_rf.fit(X_train_scaled, y_train)\n",
    "y_pred = model_rf.predict(X_train_scaled)"
   ]
  },
  {
   "cell_type": "code",
   "execution_count": 26,
   "id": "61acaa34",
   "metadata": {},
   "outputs": [
    {
     "name": "stdout",
     "output_type": "stream",
     "text": [
      "model: Random Forest\n",
      "-----------------------------\n",
      "Mean absolute error: 160.38246958637473\n",
      "Mean squared error: 42654.64119282239\n",
      "Root mean squared error:206.53000070891005\n",
      "R2 score:0.963770859724504\n",
      "Overall model score: 0.784806384906906\n",
      "feature_importances: [0.72344709 0.04846094 0.03794404 0.05178519 0.01088794 0.08389985\n",
      " 0.04357494]\n",
      "n_features: 7\n",
      "n_outputs: 1\n"
     ]
    }
   ],
   "source": [
    "# evaluation\n",
    "mae = mean_absolute_error(y_train, y_pred)\n",
    "mse = mean_squared_error(y_train, y_pred)\n",
    "rmse = sqrt(mse)\n",
    "r2 = r2_score(y_train, y_pred)\n",
    "overall = model_rf.score(X_test_scaled, y_test)\n",
    "print(\"model: Random Forest\")\n",
    "print(\"-----------------------------\")\n",
    "print(f'Mean absolute error: {mae}')\n",
    "print(f'Mean squared error: {mse}')\n",
    "print(f'Root mean squared error:{rmse}')\n",
    "print(f'R2 score:{r2}')\n",
    "print(f'Overall model score: {overall}')\n",
    "print (\"feature_importances:\",model_rf.feature_importances_)\n",
    "print (\"n_features:\",model_rf.n_features_)\n",
    "print (\"n_outputs:\",model_rf.n_outputs_) \n",
    "     "
   ]
  },
  {
   "cell_type": "markdown",
   "id": "ba275111",
   "metadata": {},
   "source": [
    "### Results: \n",
    "rf > lr"
   ]
  },
  {
   "cell_type": "markdown",
   "id": "05708371",
   "metadata": {},
   "source": [
    "## Approach 4: \n",
    "y = counts_trips  \n",
    "X = X = avg_temp, avg_wind, avg_humid, wind_gust, avg_dp, snow, air_pressure"
   ]
  },
  {
   "cell_type": "code",
   "execution_count": 27,
   "id": "2779bc99",
   "metadata": {},
   "outputs": [
    {
     "name": "stdout",
     "output_type": "stream",
     "text": [
      "X4.shape: (1096, 7).\n",
      "y4.shape: (1096,).\n"
     ]
    },
    {
     "data": {
      "text/plain": [
       "Index(['W_Temp_Avg', 'W_Avg_wind', 'W_Wind_Gust', 'W_Air_Pressure',\n",
       "       'W_Snow_Depth', 'W_Avg_humid', 'W_Avg_dp'],\n",
       "      dtype='object')"
      ]
     },
     "execution_count": 27,
     "metadata": {},
     "output_type": "execute_result"
    }
   ],
   "source": [
    "y4 = df_0['counts_trips']\n",
    "X4 = df_0.drop(columns=['trip_duration','Date','counts_trips','counts_Bike','counts_member_annual','counts_member_casual', 'W_Temp_Max','W_Temp_Min', 'W_Max_wind','W_Min_wind', 'W_Max_humid','W_Min_humid', 'W_Max_Dp','W_Min_Dp'])\n",
    "print(f'X4.shape: {X4.shape}.')\n",
    "print(f'y4.shape: {y4.shape}.')\n",
    "X4.columns"
   ]
  },
  {
   "cell_type": "code",
   "execution_count": 28,
   "id": "2d522933",
   "metadata": {},
   "outputs": [
    {
     "name": "stdout",
     "output_type": "stream",
     "text": [
      "X_train: (822, 7).\n",
      "X_test: (274, 7).\n",
      "y_train: (822,).\n",
      "y_test: (274,).\n"
     ]
    }
   ],
   "source": [
    "X_train, X_test, y_train, y_test = train_test_split(X2, y2, random_state=78)\n",
    "print(f'X_train: {X_train.shape}.')\n",
    "print(f'X_test: {X_test.shape}.')\n",
    "print(f'y_train: {y_train.shape}.')\n",
    "print(f'y_test: {y_test.shape}.')"
   ]
  },
  {
   "cell_type": "code",
   "execution_count": 29,
   "id": "cf25eb12",
   "metadata": {},
   "outputs": [],
   "source": [
    "X_train_scaled = scaler.fit_transform(X_train)\n",
    "X_test_scaled = scaler.fit_transform(X_test)"
   ]
  },
  {
   "cell_type": "code",
   "execution_count": 30,
   "id": "9c4c9e28",
   "metadata": {},
   "outputs": [],
   "source": [
    "# Linear Regression\n",
    "model_lr = LinearRegression()\n",
    "model_lr.fit(X_train_scaled, y_train)\n",
    "y_pred = model_lr.predict(X_train_scaled)"
   ]
  },
  {
   "cell_type": "code",
   "execution_count": 31,
   "id": "27e20ca2",
   "metadata": {},
   "outputs": [
    {
     "name": "stdout",
     "output_type": "stream",
     "text": [
      "model: Linear Regression\n",
      "-----------------------------\n",
      "Mean absolute error: 2898617.805196142\n",
      "Mean squared error: 19112705117582.133\n",
      "Root mean squared error:4371807.991847553\n",
      "R2 score:0.6616061601424754\n",
      "Overall model score: 0.6097767360018245\n"
     ]
    }
   ],
   "source": [
    "# evaluation - linear regression\n",
    "mae = mean_absolute_error(y_train, y_pred)\n",
    "mse = mean_squared_error(y_train, y_pred)\n",
    "rmse = sqrt(mse)\n",
    "r2 = r2_score(y_train, y_pred)\n",
    "overall = model_lr.score(X_test_scaled, y_test)\n",
    "print(\"model: Linear Regression\")\n",
    "print(\"-----------------------------\")\n",
    "print(f'Mean absolute error: {mae}')\n",
    "print(f'Mean squared error: {mse}')\n",
    "print(f'Root mean squared error:{rmse}')\n",
    "print(f'R2 score:{r2}')\n",
    "print(f'Overall model score: {overall}')"
   ]
  },
  {
   "cell_type": "code",
   "execution_count": 32,
   "id": "49fdec49",
   "metadata": {},
   "outputs": [],
   "source": [
    "# Random Forest\n",
    "model_rf = RandomForestRegressor(random_state=78)\n",
    "model_rf.fit(X_train_scaled, y_train)\n",
    "y_pred = model_rf.predict(X_train_scaled)"
   ]
  },
  {
   "cell_type": "code",
   "execution_count": 33,
   "id": "7caed675",
   "metadata": {},
   "outputs": [
    {
     "name": "stdout",
     "output_type": "stream",
     "text": [
      "model: Random Forest\n",
      "-----------------------------\n",
      "Mean absolute error: 1048141.4951094891\n",
      "Mean squared error: 2810649367460.835\n",
      "Root mean squared error:1676499.1403101985\n",
      "R2 score:0.95023695358156\n",
      "Overall model score: 0.6284541501908161\n",
      "feature_importances: [0.69310303 0.04746964 0.04085829 0.06743581 0.00131287 0.10377995\n",
      " 0.04604042]\n",
      "n_features: 7\n",
      "n_outputs: 1\n"
     ]
    }
   ],
   "source": [
    "# evaluation\n",
    "mae = mean_absolute_error(y_train, y_pred)\n",
    "mse = mean_squared_error(y_train, y_pred)\n",
    "rmse = sqrt(mse)\n",
    "r2 = r2_score(y_train, y_pred)\n",
    "overall = model_rf.score(X_test_scaled, y_test)\n",
    "print(\"model: Random Forest\")\n",
    "print(\"-----------------------------\")\n",
    "print(f'Mean absolute error: {mae}')\n",
    "print(f'Mean squared error: {mse}')\n",
    "print(f'Root mean squared error:{rmse}')\n",
    "print(f'R2 score:{r2}')\n",
    "print(f'Overall model score: {overall}')\n",
    "print (\"feature_importances:\",model_rf.feature_importances_)\n",
    "print (\"n_features:\",model_rf.n_features_)\n",
    "print (\"n_outputs:\",model_rf.n_outputs_) "
   ]
  },
  {
   "cell_type": "markdown",
   "id": "7628af06",
   "metadata": {},
   "source": [
    "## Results:\n",
    "Approach 1: y = counts_trips, X = all: both LR and RF overfit, output mostly weighted on bike data.\n",
    "Approach 2: y = trip_duration, X = 7 weather avg variables: both models have huge mae and mse, overall model score around 60%, R2 score RF better than LR.\n",
    "Approach 3: y = counts_Bike, X = 7 weather avg variables: both models have significantly smaller mae and mse compared to Approach 2, model scores and R2 scores are better than Approach 2, RF better than LR\n",
    "Approach 4: y = counts_trips, X = 7 weather avg variables: both models have huge mae and mse, overall model scores are around 60%, R2 score RF better than LR.\n",
    "Scaled or no-scaled training and testing sets have similar outcomes.\n",
    "In summary: Random Forest model performs better than Linear Regression model on this dataset.\n",
    "Future: further improvement on model accuracy is needed."
   ]
  },
  {
   "cell_type": "code",
   "execution_count": null,
   "id": "3bc20e3d",
   "metadata": {},
   "outputs": [],
   "source": []
  },
  {
   "cell_type": "code",
   "execution_count": null,
   "id": "517a428d",
   "metadata": {},
   "outputs": [],
   "source": []
  }
 ],
 "metadata": {
  "kernelspec": {
   "display_name": "PythonData",
   "language": "python",
   "name": "pythondata"
  },
  "language_info": {
   "codemirror_mode": {
    "name": "ipython",
    "version": 3
   },
   "file_extension": ".py",
   "mimetype": "text/x-python",
   "name": "python",
   "nbconvert_exporter": "python",
   "pygments_lexer": "ipython3",
   "version": "3.8.8"
  }
 },
 "nbformat": 4,
 "nbformat_minor": 5
}
