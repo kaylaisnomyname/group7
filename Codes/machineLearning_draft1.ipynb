{
 "cells": [
  {
   "cell_type": "code",
   "execution_count": 1,
   "id": "2514fec1",
   "metadata": {},
   "outputs": [],
   "source": [
    "# imports\n",
    "import pandas as pd\n",
    "import numpy as np"
   ]
  },
  {
   "cell_type": "code",
   "execution_count": 2,
   "id": "715eb536",
   "metadata": {},
   "outputs": [
    {
     "data": {
      "text/html": [
       "<div>\n",
       "<style scoped>\n",
       "    .dataframe tbody tr th:only-of-type {\n",
       "        vertical-align: middle;\n",
       "    }\n",
       "\n",
       "    .dataframe tbody tr th {\n",
       "        vertical-align: top;\n",
       "    }\n",
       "\n",
       "    .dataframe thead th {\n",
       "        text-align: right;\n",
       "    }\n",
       "</style>\n",
       "<table border=\"1\" class=\"dataframe\">\n",
       "  <thead>\n",
       "    <tr style=\"text-align: right;\">\n",
       "      <th></th>\n",
       "      <th>Date</th>\n",
       "      <th>counts_trips</th>\n",
       "      <th>counts_Bike</th>\n",
       "      <th>trip_duration</th>\n",
       "      <th>counts_member_annual</th>\n",
       "      <th>counts_member_casual</th>\n",
       "      <th>W_Temp_Max</th>\n",
       "      <th>W_Temp_Avg</th>\n",
       "      <th>W_Temp_Min</th>\n",
       "      <th>W_Max_wind</th>\n",
       "      <th>...</th>\n",
       "      <th>W_Min_wind</th>\n",
       "      <th>W_Wind_Gust</th>\n",
       "      <th>W_Air_Pressure</th>\n",
       "      <th>W_Snow_Depth</th>\n",
       "      <th>W_Max_humid</th>\n",
       "      <th>W_Avg_humid</th>\n",
       "      <th>W_Min_humid</th>\n",
       "      <th>W_Max_Dp</th>\n",
       "      <th>W_Avg_dp</th>\n",
       "      <th>W_Min_Dp</th>\n",
       "    </tr>\n",
       "  </thead>\n",
       "  <tbody>\n",
       "    <tr>\n",
       "      <th>0</th>\n",
       "      <td>2019-01-01</td>\n",
       "      <td>1064</td>\n",
       "      <td>674</td>\n",
       "      <td>1121463.0</td>\n",
       "      <td>897</td>\n",
       "      <td>167.0</td>\n",
       "      <td>5.2</td>\n",
       "      <td>-1.4</td>\n",
       "      <td>-8.0</td>\n",
       "      <td>37.0</td>\n",
       "      <td>...</td>\n",
       "      <td>3.2</td>\n",
       "      <td>58.0</td>\n",
       "      <td>1015.1</td>\n",
       "      <td>0.0</td>\n",
       "      <td>100.0</td>\n",
       "      <td>85.5</td>\n",
       "      <td>64.0</td>\n",
       "      <td>6.1</td>\n",
       "      <td>-0.6</td>\n",
       "      <td>-11.1</td>\n",
       "    </tr>\n",
       "    <tr>\n",
       "      <th>1</th>\n",
       "      <td>2019-01-02</td>\n",
       "      <td>2290</td>\n",
       "      <td>1135</td>\n",
       "      <td>2838818.0</td>\n",
       "      <td>2207</td>\n",
       "      <td>83.0</td>\n",
       "      <td>-0.5</td>\n",
       "      <td>-4.9</td>\n",
       "      <td>-9.3</td>\n",
       "      <td>20.9</td>\n",
       "      <td>...</td>\n",
       "      <td>8.0</td>\n",
       "      <td>0.0</td>\n",
       "      <td>1023.0</td>\n",
       "      <td>0.0</td>\n",
       "      <td>100.0</td>\n",
       "      <td>84.0</td>\n",
       "      <td>74.0</td>\n",
       "      <td>0.0</td>\n",
       "      <td>-5.1</td>\n",
       "      <td>-11.1</td>\n",
       "    </tr>\n",
       "    <tr>\n",
       "      <th>2</th>\n",
       "      <td>2019-01-03</td>\n",
       "      <td>2279</td>\n",
       "      <td>955</td>\n",
       "      <td>1650338.0</td>\n",
       "      <td>2228</td>\n",
       "      <td>51.0</td>\n",
       "      <td>0.8</td>\n",
       "      <td>-1.0</td>\n",
       "      <td>-2.8</td>\n",
       "      <td>37.0</td>\n",
       "      <td>...</td>\n",
       "      <td>0.0</td>\n",
       "      <td>46.0</td>\n",
       "      <td>1013.3</td>\n",
       "      <td>30.0</td>\n",
       "      <td>100.0</td>\n",
       "      <td>86.0</td>\n",
       "      <td>69.0</td>\n",
       "      <td>0.0</td>\n",
       "      <td>-1.9</td>\n",
       "      <td>-5.0</td>\n",
       "    </tr>\n",
       "    <tr>\n",
       "      <th>3</th>\n",
       "      <td>2019-01-04</td>\n",
       "      <td>3290</td>\n",
       "      <td>1381</td>\n",
       "      <td>2269606.0</td>\n",
       "      <td>3130</td>\n",
       "      <td>160.0</td>\n",
       "      <td>8.0</td>\n",
       "      <td>3.6</td>\n",
       "      <td>-0.8</td>\n",
       "      <td>29.0</td>\n",
       "      <td>...</td>\n",
       "      <td>8.0</td>\n",
       "      <td>54.0</td>\n",
       "      <td>1007.6</td>\n",
       "      <td>30.0</td>\n",
       "      <td>87.0</td>\n",
       "      <td>80.7</td>\n",
       "      <td>70.0</td>\n",
       "      <td>2.2</td>\n",
       "      <td>0.1</td>\n",
       "      <td>-1.1</td>\n",
       "    </tr>\n",
       "    <tr>\n",
       "      <th>4</th>\n",
       "      <td>2019-01-05</td>\n",
       "      <td>2160</td>\n",
       "      <td>1053</td>\n",
       "      <td>1468872.0</td>\n",
       "      <td>1937</td>\n",
       "      <td>223.0</td>\n",
       "      <td>4.0</td>\n",
       "      <td>1.2</td>\n",
       "      <td>-1.7</td>\n",
       "      <td>32.2</td>\n",
       "      <td>...</td>\n",
       "      <td>3.2</td>\n",
       "      <td>33.0</td>\n",
       "      <td>1006.1</td>\n",
       "      <td>0.0</td>\n",
       "      <td>93.0</td>\n",
       "      <td>83.7</td>\n",
       "      <td>75.0</td>\n",
       "      <td>1.1</td>\n",
       "      <td>-0.1</td>\n",
       "      <td>-1.1</td>\n",
       "    </tr>\n",
       "    <tr>\n",
       "      <th>...</th>\n",
       "      <td>...</td>\n",
       "      <td>...</td>\n",
       "      <td>...</td>\n",
       "      <td>...</td>\n",
       "      <td>...</td>\n",
       "      <td>...</td>\n",
       "      <td>...</td>\n",
       "      <td>...</td>\n",
       "      <td>...</td>\n",
       "      <td>...</td>\n",
       "      <td>...</td>\n",
       "      <td>...</td>\n",
       "      <td>...</td>\n",
       "      <td>...</td>\n",
       "      <td>...</td>\n",
       "      <td>...</td>\n",
       "      <td>...</td>\n",
       "      <td>...</td>\n",
       "      <td>...</td>\n",
       "      <td>...</td>\n",
       "      <td>...</td>\n",
       "    </tr>\n",
       "    <tr>\n",
       "      <th>1091</th>\n",
       "      <td>2021-12-27</td>\n",
       "      <td>1265</td>\n",
       "      <td>756</td>\n",
       "      <td>955753.0</td>\n",
       "      <td>873</td>\n",
       "      <td>392.0</td>\n",
       "      <td>0.1</td>\n",
       "      <td>-3.1</td>\n",
       "      <td>-6.2</td>\n",
       "      <td>59.5</td>\n",
       "      <td>...</td>\n",
       "      <td>9.7</td>\n",
       "      <td>48.0</td>\n",
       "      <td>1014.1</td>\n",
       "      <td>40.0</td>\n",
       "      <td>100.0</td>\n",
       "      <td>90.9</td>\n",
       "      <td>68.0</td>\n",
       "      <td>1.1</td>\n",
       "      <td>-2.3</td>\n",
       "      <td>-10.0</td>\n",
       "    </tr>\n",
       "    <tr>\n",
       "      <th>1092</th>\n",
       "      <td>2021-12-28</td>\n",
       "      <td>3054</td>\n",
       "      <td>1466</td>\n",
       "      <td>2356616.0</td>\n",
       "      <td>2025</td>\n",
       "      <td>1029.0</td>\n",
       "      <td>2.3</td>\n",
       "      <td>0.9</td>\n",
       "      <td>-0.6</td>\n",
       "      <td>40.2</td>\n",
       "      <td>...</td>\n",
       "      <td>3.2</td>\n",
       "      <td>57.0</td>\n",
       "      <td>1009.8</td>\n",
       "      <td>20.0</td>\n",
       "      <td>100.0</td>\n",
       "      <td>80.5</td>\n",
       "      <td>56.0</td>\n",
       "      <td>2.2</td>\n",
       "      <td>-1.4</td>\n",
       "      <td>-5.0</td>\n",
       "    </tr>\n",
       "    <tr>\n",
       "      <th>1093</th>\n",
       "      <td>2021-12-29</td>\n",
       "      <td>3521</td>\n",
       "      <td>1668</td>\n",
       "      <td>2896184.0</td>\n",
       "      <td>2440</td>\n",
       "      <td>1081.0</td>\n",
       "      <td>2.2</td>\n",
       "      <td>1.0</td>\n",
       "      <td>-0.3</td>\n",
       "      <td>32.2</td>\n",
       "      <td>...</td>\n",
       "      <td>4.8</td>\n",
       "      <td>0.0</td>\n",
       "      <td>1011.7</td>\n",
       "      <td>10.0</td>\n",
       "      <td>100.0</td>\n",
       "      <td>91.1</td>\n",
       "      <td>81.0</td>\n",
       "      <td>2.8</td>\n",
       "      <td>0.9</td>\n",
       "      <td>-1.1</td>\n",
       "    </tr>\n",
       "    <tr>\n",
       "      <th>1094</th>\n",
       "      <td>2021-12-30</td>\n",
       "      <td>4065</td>\n",
       "      <td>1785</td>\n",
       "      <td>2938443.0</td>\n",
       "      <td>2836</td>\n",
       "      <td>1229.0</td>\n",
       "      <td>2.2</td>\n",
       "      <td>1.1</td>\n",
       "      <td>0.0</td>\n",
       "      <td>24.1</td>\n",
       "      <td>...</td>\n",
       "      <td>4.8</td>\n",
       "      <td>0.0</td>\n",
       "      <td>1013.8</td>\n",
       "      <td>0.0</td>\n",
       "      <td>87.0</td>\n",
       "      <td>80.5</td>\n",
       "      <td>70.0</td>\n",
       "      <td>1.1</td>\n",
       "      <td>-0.4</td>\n",
       "      <td>-2.2</td>\n",
       "    </tr>\n",
       "    <tr>\n",
       "      <th>1095</th>\n",
       "      <td>2021-12-31</td>\n",
       "      <td>4832</td>\n",
       "      <td>1973</td>\n",
       "      <td>4279555.0</td>\n",
       "      <td>3186</td>\n",
       "      <td>1646.0</td>\n",
       "      <td>6.7</td>\n",
       "      <td>4.3</td>\n",
       "      <td>1.9</td>\n",
       "      <td>27.4</td>\n",
       "      <td>...</td>\n",
       "      <td>3.2</td>\n",
       "      <td>0.0</td>\n",
       "      <td>1010.7</td>\n",
       "      <td>0.0</td>\n",
       "      <td>100.0</td>\n",
       "      <td>93.1</td>\n",
       "      <td>81.0</td>\n",
       "      <td>3.9</td>\n",
       "      <td>2.9</td>\n",
       "      <td>0.0</td>\n",
       "    </tr>\n",
       "  </tbody>\n",
       "</table>\n",
       "<p>1096 rows × 21 columns</p>\n",
       "</div>"
      ],
      "text/plain": [
       "            Date  counts_trips  counts_Bike  trip_duration  \\\n",
       "0     2019-01-01          1064          674      1121463.0   \n",
       "1     2019-01-02          2290         1135      2838818.0   \n",
       "2     2019-01-03          2279          955      1650338.0   \n",
       "3     2019-01-04          3290         1381      2269606.0   \n",
       "4     2019-01-05          2160         1053      1468872.0   \n",
       "...          ...           ...          ...            ...   \n",
       "1091  2021-12-27          1265          756       955753.0   \n",
       "1092  2021-12-28          3054         1466      2356616.0   \n",
       "1093  2021-12-29          3521         1668      2896184.0   \n",
       "1094  2021-12-30          4065         1785      2938443.0   \n",
       "1095  2021-12-31          4832         1973      4279555.0   \n",
       "\n",
       "      counts_member_annual  counts_member_casual  W_Temp_Max  W_Temp_Avg  \\\n",
       "0                      897                 167.0         5.2        -1.4   \n",
       "1                     2207                  83.0        -0.5        -4.9   \n",
       "2                     2228                  51.0         0.8        -1.0   \n",
       "3                     3130                 160.0         8.0         3.6   \n",
       "4                     1937                 223.0         4.0         1.2   \n",
       "...                    ...                   ...         ...         ...   \n",
       "1091                   873                 392.0         0.1        -3.1   \n",
       "1092                  2025                1029.0         2.3         0.9   \n",
       "1093                  2440                1081.0         2.2         1.0   \n",
       "1094                  2836                1229.0         2.2         1.1   \n",
       "1095                  3186                1646.0         6.7         4.3   \n",
       "\n",
       "      W_Temp_Min  W_Max_wind  ...  W_Min_wind  W_Wind_Gust  W_Air_Pressure  \\\n",
       "0           -8.0        37.0  ...         3.2         58.0          1015.1   \n",
       "1           -9.3        20.9  ...         8.0          0.0          1023.0   \n",
       "2           -2.8        37.0  ...         0.0         46.0          1013.3   \n",
       "3           -0.8        29.0  ...         8.0         54.0          1007.6   \n",
       "4           -1.7        32.2  ...         3.2         33.0          1006.1   \n",
       "...          ...         ...  ...         ...          ...             ...   \n",
       "1091        -6.2        59.5  ...         9.7         48.0          1014.1   \n",
       "1092        -0.6        40.2  ...         3.2         57.0          1009.8   \n",
       "1093        -0.3        32.2  ...         4.8          0.0          1011.7   \n",
       "1094         0.0        24.1  ...         4.8          0.0          1013.8   \n",
       "1095         1.9        27.4  ...         3.2          0.0          1010.7   \n",
       "\n",
       "      W_Snow_Depth  W_Max_humid  W_Avg_humid  W_Min_humid  W_Max_Dp  W_Avg_dp  \\\n",
       "0              0.0        100.0         85.5         64.0       6.1      -0.6   \n",
       "1              0.0        100.0         84.0         74.0       0.0      -5.1   \n",
       "2             30.0        100.0         86.0         69.0       0.0      -1.9   \n",
       "3             30.0         87.0         80.7         70.0       2.2       0.1   \n",
       "4              0.0         93.0         83.7         75.0       1.1      -0.1   \n",
       "...            ...          ...          ...          ...       ...       ...   \n",
       "1091          40.0        100.0         90.9         68.0       1.1      -2.3   \n",
       "1092          20.0        100.0         80.5         56.0       2.2      -1.4   \n",
       "1093          10.0        100.0         91.1         81.0       2.8       0.9   \n",
       "1094           0.0         87.0         80.5         70.0       1.1      -0.4   \n",
       "1095           0.0        100.0         93.1         81.0       3.9       2.9   \n",
       "\n",
       "      W_Min_Dp  \n",
       "0        -11.1  \n",
       "1        -11.1  \n",
       "2         -5.0  \n",
       "3         -1.1  \n",
       "4         -1.1  \n",
       "...        ...  \n",
       "1091     -10.0  \n",
       "1092      -5.0  \n",
       "1093      -1.1  \n",
       "1094      -2.2  \n",
       "1095       0.0  \n",
       "\n",
       "[1096 rows x 21 columns]"
      ]
     },
     "execution_count": 2,
     "metadata": {},
     "output_type": "execute_result"
    }
   ],
   "source": [
    "df_0 = pd.read_csv('../Resources/Bike_weather_merge.csv')\n",
    "df_0"
   ]
  },
  {
   "cell_type": "code",
   "execution_count": 3,
   "id": "d48f8208",
   "metadata": {},
   "outputs": [
    {
     "data": {
      "text/plain": [
       "False"
      ]
     },
     "execution_count": 3,
     "metadata": {},
     "output_type": "execute_result"
    }
   ],
   "source": [
    "# double check if any nan values\n",
    "df_0.isnull().values.any()"
   ]
  },
  {
   "cell_type": "markdown",
   "id": "fb70963b",
   "metadata": {},
   "source": [
    "## Spliting and standardize training and testing sets\n"
   ]
  },
  {
   "cell_type": "code",
   "execution_count": 4,
   "id": "b93a0abf",
   "metadata": {},
   "outputs": [],
   "source": [
    "# imports\n",
    "from sklearn.model_selection import train_test_split\n",
    "from sklearn.preprocessing import StandardScaler"
   ]
  },
  {
   "cell_type": "markdown",
   "id": "c0254ddb",
   "metadata": {},
   "source": [
    "Approach 1: y= counts_trips"
   ]
  },
  {
   "cell_type": "code",
   "execution_count": 5,
   "id": "6b7d0b84",
   "metadata": {},
   "outputs": [],
   "source": [
    "# split features X and output y (counts_trips)\n",
    "X = df_0.drop(columns=['counts_trips','Date'])\n",
    "y = df_0['counts_trips']"
   ]
  },
  {
   "cell_type": "code",
   "execution_count": 6,
   "id": "f02c5398",
   "metadata": {
    "scrolled": true
   },
   "outputs": [
    {
     "name": "stdout",
     "output_type": "stream",
     "text": [
      "X.shape: (1096, 19).\n",
      "y.shape: (1096,).\n"
     ]
    }
   ],
   "source": [
    "print(f'X.shape: {X.shape}.')\n",
    "print(f'y.shape: {y.shape}.')"
   ]
  },
  {
   "cell_type": "code",
   "execution_count": 7,
   "id": "88eccb21",
   "metadata": {},
   "outputs": [],
   "source": [
    "X_train, X_test, y_train, y_test = train_test_split(X, y, random_state=78)"
   ]
  },
  {
   "cell_type": "code",
   "execution_count": 8,
   "id": "06cf43f2",
   "metadata": {},
   "outputs": [
    {
     "name": "stdout",
     "output_type": "stream",
     "text": [
      "X_train: (822, 19).\n",
      "X_test: (274, 19).\n",
      "y_train: (822,).\n",
      "y_test: (274,).\n"
     ]
    }
   ],
   "source": [
    "print(f'X_train: {X_train.shape}.')\n",
    "print(f'X_test: {X_test.shape}.')\n",
    "print(f'y_train: {y_train.shape}.')\n",
    "print(f'y_test: {y_test.shape}.')"
   ]
  },
  {
   "cell_type": "code",
   "execution_count": 9,
   "id": "062de3b1",
   "metadata": {},
   "outputs": [],
   "source": [
    "scaler = StandardScaler()"
   ]
  },
  {
   "cell_type": "code",
   "execution_count": 10,
   "id": "686852c8",
   "metadata": {},
   "outputs": [],
   "source": [
    "## Date is not numeric, could not be standarized. drop it.\n",
    "\n",
    "X_train_scaled = scaler.fit_transform(X_train)\n",
    "X_test_scaled = scaler.fit_transform(X_test)"
   ]
  },
  {
   "cell_type": "code",
   "execution_count": 11,
   "id": "07f70df3",
   "metadata": {},
   "outputs": [
    {
     "data": {
      "text/plain": [
       "counts_Bike               int64\n",
       "trip_duration           float64\n",
       "counts_member_annual      int64\n",
       "counts_member_casual    float64\n",
       "W_Temp_Max              float64\n",
       "W_Temp_Avg              float64\n",
       "W_Temp_Min              float64\n",
       "W_Max_wind              float64\n",
       "W_Avg_wind              float64\n",
       "W_Min_wind              float64\n",
       "W_Wind_Gust             float64\n",
       "W_Air_Pressure          float64\n",
       "W_Snow_Depth            float64\n",
       "W_Max_humid             float64\n",
       "W_Avg_humid             float64\n",
       "W_Min_humid             float64\n",
       "W_Max_Dp                float64\n",
       "W_Avg_dp                float64\n",
       "W_Min_Dp                float64\n",
       "dtype: object"
      ]
     },
     "execution_count": 11,
     "metadata": {},
     "output_type": "execute_result"
    }
   ],
   "source": [
    "X.dtypes"
   ]
  },
  {
   "cell_type": "markdown",
   "id": "a8fe0b36",
   "metadata": {},
   "source": [
    "## Linear Regression"
   ]
  },
  {
   "cell_type": "code",
   "execution_count": 12,
   "id": "5d16fa9b",
   "metadata": {},
   "outputs": [],
   "source": [
    "from sklearn.linear_model import LinearRegression\n",
    "from sklearn.metrics import mean_squared_error, r2_score"
   ]
  },
  {
   "cell_type": "code",
   "execution_count": 14,
   "id": "d343cd4d",
   "metadata": {},
   "outputs": [],
   "source": [
    "model_lr = LinearRegression()"
   ]
  },
  {
   "cell_type": "code",
   "execution_count": 15,
   "id": "69bc9ce0",
   "metadata": {},
   "outputs": [
    {
     "data": {
      "text/plain": [
       "LinearRegression()"
      ]
     },
     "execution_count": 15,
     "metadata": {},
     "output_type": "execute_result"
    }
   ],
   "source": [
    "model_lr.fit(X_train_scaled, y_train)"
   ]
  },
  {
   "cell_type": "code",
   "execution_count": 16,
   "id": "98b51545",
   "metadata": {},
   "outputs": [],
   "source": [
    "y_pred = model_lr.predict(X_train_scaled)"
   ]
  },
  {
   "cell_type": "code",
   "execution_count": 17,
   "id": "43c40cf6",
   "metadata": {},
   "outputs": [
    {
     "name": "stdout",
     "output_type": "stream",
     "text": [
      "Linear Regression mean squared error: 2.2875493674201035e-22.\n",
      "Linear Regression R2 score :1.0.\n"
     ]
    }
   ],
   "source": [
    "mse = mean_squared_error(y_train, y_pred)\n",
    "r2 = r2_score(y_train, y_pred)\n",
    "print(f'Linear Regression mean squared error: {mse}.')\n",
    "print(f'Linear Regression R2 score :{r2}.')"
   ]
  },
  {
   "cell_type": "code",
   "execution_count": 18,
   "id": "e899cf2a",
   "metadata": {},
   "outputs": [
    {
     "data": {
      "text/plain": [
       "0.9990508116437439"
      ]
     },
     "execution_count": 18,
     "metadata": {},
     "output_type": "execute_result"
    }
   ],
   "source": [
    "# overall score for the model by unseen testing data\n",
    "model_lr.score(X_test_scaled, y_test)"
   ]
  },
  {
   "cell_type": "code",
   "execution_count": null,
   "id": "857372cf",
   "metadata": {},
   "outputs": [],
   "source": [
    "## ? LR: how to get the model function to display the features' weight?"
   ]
  },
  {
   "cell_type": "markdown",
   "id": "183b82a2",
   "metadata": {},
   "source": [
    "## Random Forests"
   ]
  },
  {
   "cell_type": "code",
   "execution_count": 19,
   "id": "b641f34e",
   "metadata": {},
   "outputs": [],
   "source": [
    "from sklearn.ensemble import RandomForestRegressor"
   ]
  },
  {
   "cell_type": "code",
   "execution_count": 20,
   "id": "863cea2e",
   "metadata": {},
   "outputs": [],
   "source": [
    "model_rf = RandomForestRegressor(random_state=78)"
   ]
  },
  {
   "cell_type": "code",
   "execution_count": 21,
   "id": "f43b15bd",
   "metadata": {},
   "outputs": [
    {
     "data": {
      "text/plain": [
       "RandomForestRegressor(random_state=78)"
      ]
     },
     "execution_count": 21,
     "metadata": {},
     "output_type": "execute_result"
    }
   ],
   "source": [
    "model_rf.fit(X_train_scaled, y_train)"
   ]
  },
  {
   "cell_type": "code",
   "execution_count": 22,
   "id": "a098c35c",
   "metadata": {},
   "outputs": [],
   "source": [
    "y_pred = model_rf.predict(X_train_scaled)"
   ]
  },
  {
   "cell_type": "code",
   "execution_count": 23,
   "id": "599a8e2c",
   "metadata": {
    "scrolled": true
   },
   "outputs": [
    {
     "name": "stdout",
     "output_type": "stream",
     "text": [
      "Random Forests model mean squared error: 32370.338569708052.\n",
      "Random Forests model R2 score :0.9989721111553218.\n"
     ]
    }
   ],
   "source": [
    "mse = mean_squared_error(y_train, y_pred)\n",
    "r2 = r2_score(y_train, y_pred)\n",
    "print(f'Random Forests model mean squared error: {mse}.')\n",
    "print(f'Random Forests model R2 score :{r2}.')"
   ]
  },
  {
   "cell_type": "code",
   "execution_count": 24,
   "id": "d795c8c9",
   "metadata": {
    "scrolled": true
   },
   "outputs": [
    {
     "name": "stdout",
     "output_type": "stream",
     "text": [
      "[5.90177755e-01 3.58809921e-01 1.56380136e-02 2.86878262e-02\n",
      " 1.20506176e-03 1.06582562e-03 6.69166457e-04 3.94533907e-04\n",
      " 4.22385059e-04 1.78078389e-04 4.24713083e-04 4.23978869e-04\n",
      " 1.17643138e-05 2.14067986e-04 3.41503259e-04 3.29013061e-04\n",
      " 3.10686332e-04 4.47199396e-04 2.48507100e-04]\n"
     ]
    }
   ],
   "source": [
    "features = model_rf.feature_importances_\n",
    "print(features)"
   ]
  },
  {
   "cell_type": "code",
   "execution_count": null,
   "id": "01d3d139",
   "metadata": {},
   "outputs": [],
   "source": [
    "#model_rf.get_params()"
   ]
  },
  {
   "cell_type": "code",
   "execution_count": 25,
   "id": "d1d83bcf",
   "metadata": {},
   "outputs": [
    {
     "data": {
      "image/png": "[encoded data removed]",
      "text/plain": [
       "<Figure size 432x288 with 1 Axes>"
      ]
     },
     "metadata": {
      "needs_background": "light"
     },
     "output_type": "display_data"
    }
   ],
   "source": [
    " %matplotlib inline\n",
    "from matplotlib import pyplot as plt\n",
    "plt.bar(x = range(len(features)), height=features)\n",
    "plt.show()"
   ]
  },
  {
   "cell_type": "code",
   "execution_count": 26,
   "id": "c81dcb70",
   "metadata": {
    "scrolled": true
   },
   "outputs": [
    {
     "data": {
      "text/plain": [
       "array([ True,  True, False, False, False, False, False, False, False,\n",
       "       False, False, False, False, False, False, False, False, False,\n",
       "       False])"
      ]
     },
     "execution_count": 26,
     "metadata": {},
     "output_type": "execute_result"
    }
   ],
   "source": [
    " from sklearn.feature_selection import SelectFromModel\n",
    "slm = SelectFromModel(model_rf)\n",
    "slm.fit(X_train_scaled, y_train)\n",
    "slm.get_support()"
   ]
  },
  {
   "cell_type": "code",
   "execution_count": null,
   "id": "5a835d0f",
   "metadata": {
    "scrolled": true
   },
   "outputs": [],
   "source": [
    "df_0.columns"
   ]
  },
  {
   "cell_type": "markdown",
   "id": "92010c90",
   "metadata": {},
   "source": [
    "Random Forest model: y=trip counts, most weighted features are bike counts, durations,no much based on the weather conditions.   \n",
    "Approach 2: y = duration, X= ave_temp, ave_wind, wind_gust, air_pressure, snow, ave_humid, avg_dp"
   ]
  },
  {
   "cell_type": "markdown",
   "id": "b4e97ca6",
   "metadata": {},
   "source": [
    "## Approach 2"
   ]
  },
  {
   "cell_type": "code",
   "execution_count": 27,
   "id": "cdf30d0e",
   "metadata": {},
   "outputs": [],
   "source": [
    "y2 = df_0['trip_duration']"
   ]
  },
  {
   "cell_type": "code",
   "execution_count": 28,
   "id": "a9964670",
   "metadata": {},
   "outputs": [
    {
     "data": {
      "text/html": [
       "<div>\n",
       "<style scoped>\n",
       "    .dataframe tbody tr th:only-of-type {\n",
       "        vertical-align: middle;\n",
       "    }\n",
       "\n",
       "    .dataframe tbody tr th {\n",
       "        vertical-align: top;\n",
       "    }\n",
       "\n",
       "    .dataframe thead th {\n",
       "        text-align: right;\n",
       "    }\n",
       "</style>\n",
       "<table border=\"1\" class=\"dataframe\">\n",
       "  <thead>\n",
       "    <tr style=\"text-align: right;\">\n",
       "      <th></th>\n",
       "      <th>W_Temp_Avg</th>\n",
       "      <th>W_Avg_wind</th>\n",
       "      <th>W_Wind_Gust</th>\n",
       "      <th>W_Air_Pressure</th>\n",
       "      <th>W_Snow_Depth</th>\n",
       "      <th>W_Avg_humid</th>\n",
       "      <th>W_Avg_dp</th>\n",
       "    </tr>\n",
       "  </thead>\n",
       "  <tbody>\n",
       "    <tr>\n",
       "      <th>0</th>\n",
       "      <td>-1.4</td>\n",
       "      <td>21.4</td>\n",
       "      <td>58.0</td>\n",
       "      <td>1015.1</td>\n",
       "      <td>0.0</td>\n",
       "      <td>85.5</td>\n",
       "      <td>-0.6</td>\n",
       "    </tr>\n",
       "    <tr>\n",
       "      <th>1</th>\n",
       "      <td>-4.9</td>\n",
       "      <td>11.9</td>\n",
       "      <td>0.0</td>\n",
       "      <td>1023.0</td>\n",
       "      <td>0.0</td>\n",
       "      <td>84.0</td>\n",
       "      <td>-5.1</td>\n",
       "    </tr>\n",
       "    <tr>\n",
       "      <th>2</th>\n",
       "      <td>-1.0</td>\n",
       "      <td>18.2</td>\n",
       "      <td>46.0</td>\n",
       "      <td>1013.3</td>\n",
       "      <td>30.0</td>\n",
       "      <td>86.0</td>\n",
       "      <td>-1.9</td>\n",
       "    </tr>\n",
       "    <tr>\n",
       "      <th>3</th>\n",
       "      <td>3.6</td>\n",
       "      <td>18.8</td>\n",
       "      <td>54.0</td>\n",
       "      <td>1007.6</td>\n",
       "      <td>30.0</td>\n",
       "      <td>80.7</td>\n",
       "      <td>0.1</td>\n",
       "    </tr>\n",
       "    <tr>\n",
       "      <th>4</th>\n",
       "      <td>1.2</td>\n",
       "      <td>16.3</td>\n",
       "      <td>33.0</td>\n",
       "      <td>1006.1</td>\n",
       "      <td>0.0</td>\n",
       "      <td>83.7</td>\n",
       "      <td>-0.1</td>\n",
       "    </tr>\n",
       "    <tr>\n",
       "      <th>...</th>\n",
       "      <td>...</td>\n",
       "      <td>...</td>\n",
       "      <td>...</td>\n",
       "      <td>...</td>\n",
       "      <td>...</td>\n",
       "      <td>...</td>\n",
       "      <td>...</td>\n",
       "    </tr>\n",
       "    <tr>\n",
       "      <th>1091</th>\n",
       "      <td>-3.1</td>\n",
       "      <td>38.9</td>\n",
       "      <td>48.0</td>\n",
       "      <td>1014.1</td>\n",
       "      <td>40.0</td>\n",
       "      <td>90.9</td>\n",
       "      <td>-2.3</td>\n",
       "    </tr>\n",
       "    <tr>\n",
       "      <th>1092</th>\n",
       "      <td>0.9</td>\n",
       "      <td>17.2</td>\n",
       "      <td>57.0</td>\n",
       "      <td>1009.8</td>\n",
       "      <td>20.0</td>\n",
       "      <td>80.5</td>\n",
       "      <td>-1.4</td>\n",
       "    </tr>\n",
       "    <tr>\n",
       "      <th>1093</th>\n",
       "      <td>1.0</td>\n",
       "      <td>20.8</td>\n",
       "      <td>0.0</td>\n",
       "      <td>1011.7</td>\n",
       "      <td>10.0</td>\n",
       "      <td>91.1</td>\n",
       "      <td>0.9</td>\n",
       "    </tr>\n",
       "    <tr>\n",
       "      <th>1094</th>\n",
       "      <td>1.1</td>\n",
       "      <td>12.6</td>\n",
       "      <td>0.0</td>\n",
       "      <td>1013.8</td>\n",
       "      <td>0.0</td>\n",
       "      <td>80.5</td>\n",
       "      <td>-0.4</td>\n",
       "    </tr>\n",
       "    <tr>\n",
       "      <th>1095</th>\n",
       "      <td>4.3</td>\n",
       "      <td>16.1</td>\n",
       "      <td>0.0</td>\n",
       "      <td>1010.7</td>\n",
       "      <td>0.0</td>\n",
       "      <td>93.1</td>\n",
       "      <td>2.9</td>\n",
       "    </tr>\n",
       "  </tbody>\n",
       "</table>\n",
       "<p>1096 rows × 7 columns</p>\n",
       "</div>"
      ],
      "text/plain": [
       "      W_Temp_Avg  W_Avg_wind  W_Wind_Gust  W_Air_Pressure  W_Snow_Depth  \\\n",
       "0           -1.4        21.4         58.0          1015.1           0.0   \n",
       "1           -4.9        11.9          0.0          1023.0           0.0   \n",
       "2           -1.0        18.2         46.0          1013.3          30.0   \n",
       "3            3.6        18.8         54.0          1007.6          30.0   \n",
       "4            1.2        16.3         33.0          1006.1           0.0   \n",
       "...          ...         ...          ...             ...           ...   \n",
       "1091        -3.1        38.9         48.0          1014.1          40.0   \n",
       "1092         0.9        17.2         57.0          1009.8          20.0   \n",
       "1093         1.0        20.8          0.0          1011.7          10.0   \n",
       "1094         1.1        12.6          0.0          1013.8           0.0   \n",
       "1095         4.3        16.1          0.0          1010.7           0.0   \n",
       "\n",
       "      W_Avg_humid  W_Avg_dp  \n",
       "0            85.5      -0.6  \n",
       "1            84.0      -5.1  \n",
       "2            86.0      -1.9  \n",
       "3            80.7       0.1  \n",
       "4            83.7      -0.1  \n",
       "...           ...       ...  \n",
       "1091         90.9      -2.3  \n",
       "1092         80.5      -1.4  \n",
       "1093         91.1       0.9  \n",
       "1094         80.5      -0.4  \n",
       "1095         93.1       2.9  \n",
       "\n",
       "[1096 rows x 7 columns]"
      ]
     },
     "execution_count": 28,
     "metadata": {},
     "output_type": "execute_result"
    }
   ],
   "source": [
    "X2 = df_0.drop(columns=['trip_duration','Date','counts_trips','counts_Bike','counts_member_annual','counts_member_casual', 'W_Temp_Max','W_Temp_Min', 'W_Max_wind','W_Min_wind', 'W_Max_humid','W_Min_humid', 'W_Max_Dp','W_Min_Dp'])\n",
    "X2"
   ]
  },
  {
   "cell_type": "code",
   "execution_count": 29,
   "id": "76f1edc2",
   "metadata": {},
   "outputs": [
    {
     "name": "stdout",
     "output_type": "stream",
     "text": [
      "X2.shape: (1096, 19).\n",
      "y2.shape: (1096,).\n"
     ]
    }
   ],
   "source": [
    "print(f'X2.shape: {X.shape}.')\n",
    "print(f'y2.shape: {y.shape}.')"
   ]
  },
  {
   "cell_type": "code",
   "execution_count": 30,
   "id": "10a53134",
   "metadata": {},
   "outputs": [],
   "source": [
    "X_train, X_test, y_train, y_test = train_test_split(X2, y2, random_state=78)"
   ]
  },
  {
   "cell_type": "code",
   "execution_count": 31,
   "id": "d3b14966",
   "metadata": {},
   "outputs": [
    {
     "name": "stdout",
     "output_type": "stream",
     "text": [
      "X_train: (822, 7).\n",
      "X_test: (274, 7).\n",
      "y_train: (822,).\n",
      "y_test: (274,).\n"
     ]
    }
   ],
   "source": [
    "print(f'X_train: {X_train.shape}.')\n",
    "print(f'X_test: {X_test.shape}.')\n",
    "print(f'y_train: {y_train.shape}.')\n",
    "print(f'y_test: {y_test.shape}.')"
   ]
  },
  {
   "cell_type": "code",
   "execution_count": 32,
   "id": "46878b4f",
   "metadata": {},
   "outputs": [],
   "source": [
    "scaler = StandardScaler()\n",
    "X_train_scaled = scaler.fit_transform(X_train)\n",
    "X_test_scaled = scaler.fit_transform(X_test)"
   ]
  },
  {
   "cell_type": "code",
   "execution_count": 34,
   "id": "b41f7018",
   "metadata": {},
   "outputs": [],
   "source": [
    "model_lr = LinearRegression()\n",
    "model_lr.fit(X_train_scaled, y_train)\n",
    "y_pred = model_lr.predict(X_train_scaled)"
   ]
  },
  {
   "cell_type": "code",
   "execution_count": 35,
   "id": "37f8e3b0",
   "metadata": {},
   "outputs": [
    {
     "name": "stdout",
     "output_type": "stream",
     "text": [
      "Linear Regression mean squared error: 19112705117582.133.\n",
      "Linear Regression R2 score :0.6616061601424754.\n",
      "Linear Regression overall model score :0.6097767360018245.\n"
     ]
    }
   ],
   "source": [
    "mse = mean_squared_error(y_train, y_pred)\n",
    "r2 = r2_score(y_train, y_pred)\n",
    "overall = model_lr.score(X_test_scaled, y_test)\n",
    "print(f'Linear Regression mean squared error: {mse}.')\n",
    "print(f'Linear Regression R2 score :{r2}.')\n",
    "print(f'Linear Regression overall model score :{overall}.')"
   ]
  },
  {
   "cell_type": "code",
   "execution_count": 36,
   "id": "4928071c",
   "metadata": {},
   "outputs": [],
   "source": [
    "model_rf = RandomForestRegressor(random_state=78)\n",
    "model_rf.fit(X_train_scaled, y_train)\n",
    "y_pred = model_rf.predict(X_train_scaled)"
   ]
  },
  {
   "cell_type": "code",
   "execution_count": 37,
   "id": "58b903d5",
   "metadata": {
    "scrolled": true
   },
   "outputs": [
    {
     "name": "stdout",
     "output_type": "stream",
     "text": [
      "Random Forests model mean squared error: 2810649367460.835.\n",
      "Random Forests model R2 score :0.95023695358156.\n",
      "Random Forests model overall model score :0.6284541501908161.\n"
     ]
    }
   ],
   "source": [
    "mse = mean_squared_error(y_train, y_pred)\n",
    "r2 = r2_score(y_train, y_pred)\n",
    "overall_rf = model_rf.score(X_test_scaled, y_test)\n",
    "print(f'Random Forests model mean squared error: {mse}.')\n",
    "print(f'Random Forests model R2 score :{r2}.')\n",
    "print(f'Random Forests model overall model score :{overall_rf}.')"
   ]
  },
  {
   "cell_type": "markdown",
   "id": "1c42f44d",
   "metadata": {},
   "source": [
    "Approach 2: mse too large: variance too far away from true value. \n",
    "rf failed."
   ]
  },
  {
   "cell_type": "markdown",
   "id": "381a6aa1",
   "metadata": {},
   "source": [
    "## Appraoch 3 : \n",
    "y = trip_duration:\n",
    "X = avg_temp, avg_wind, avg_humid, wind_gust, avg_dp, snow, air_pressure"
   ]
  },
  {
   "cell_type": "code",
   "execution_count": null,
   "id": "963c6aef",
   "metadata": {},
   "outputs": [],
   "source": []
  },
  {
   "cell_type": "code",
   "execution_count": null,
   "id": "28e114b7",
   "metadata": {},
   "outputs": [],
   "source": []
  },
  {
   "cell_type": "code",
   "execution_count": null,
   "id": "3e6cc6da",
   "metadata": {},
   "outputs": [],
   "source": []
  },
  {
   "cell_type": "code",
   "execution_count": null,
   "id": "5fbbd113",
   "metadata": {},
   "outputs": [],
   "source": []
  },
  {
   "cell_type": "code",
   "execution_count": null,
   "id": "bd536b51",
   "metadata": {},
   "outputs": [],
   "source": []
  },
  {
   "cell_type": "code",
   "execution_count": null,
   "id": "dc748b4d",
   "metadata": {},
   "outputs": [],
   "source": []
  },
  {
   "cell_type": "code",
   "execution_count": null,
   "id": "bf6e0162",
   "metadata": {},
   "outputs": [],
   "source": []
  }
 ],
 "metadata": {
  "kernelspec": {
   "display_name": "PythonData",
   "language": "python",
   "name": "pythondata"
  },
  "language_info": {
   "codemirror_mode": {
    "name": "ipython",
    "version": 3
   },
   "file_extension": ".py",
   "mimetype": "text/x-python",
   "name": "python",
   "nbconvert_exporter": "python",
   "pygments_lexer": "ipython3",
   "version": "3.8.8"
  }
 },
 "nbformat": 4,
 "nbformat_minor": 5
}
