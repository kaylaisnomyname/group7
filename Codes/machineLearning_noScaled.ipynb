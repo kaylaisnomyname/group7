{
 "cells": [
  {
   "cell_type": "code",
   "execution_count": 8,
   "id": "2514fec1",
   "metadata": {},
   "outputs": [],
   "source": [
    "# imports\n",
    "import pandas as pd\n",
    "import numpy as np\n",
    "\n",
    "from sklearn.model_selection import train_test_split\n",
    "from sklearn.linear_model import LinearRegression\n",
    "from sklearn.ensemble import RandomForestRegressor\n",
    "from sklearn.feature_selection import SelectFromModel\n",
    "\n",
    "from sklearn.metrics import mean_absolute_error, mean_squared_error,r2_score\n",
    "from math import sqrt"
   ]
  },
  {
   "cell_type": "code",
   "execution_count": 2,
   "id": "715eb536",
   "metadata": {},
   "outputs": [
    {
     "data": {
      "text/html": [
       "<div>\n",
       "<style scoped>\n",
       "    .dataframe tbody tr th:only-of-type {\n",
       "        vertical-align: middle;\n",
       "    }\n",
       "\n",
       "    .dataframe tbody tr th {\n",
       "        vertical-align: top;\n",
       "    }\n",
       "\n",
       "    .dataframe thead th {\n",
       "        text-align: right;\n",
       "    }\n",
       "</style>\n",
       "<table border=\"1\" class=\"dataframe\">\n",
       "  <thead>\n",
       "    <tr style=\"text-align: right;\">\n",
       "      <th></th>\n",
       "      <th>Date</th>\n",
       "      <th>counts_trips</th>\n",
       "      <th>counts_Bike</th>\n",
       "      <th>trip_duration</th>\n",
       "      <th>counts_member_annual</th>\n",
       "      <th>counts_member_casual</th>\n",
       "      <th>W_Temp_Max</th>\n",
       "      <th>W_Temp_Avg</th>\n",
       "      <th>W_Temp_Min</th>\n",
       "      <th>W_Max_wind</th>\n",
       "      <th>...</th>\n",
       "      <th>W_Min_wind</th>\n",
       "      <th>W_Wind_Gust</th>\n",
       "      <th>W_Air_Pressure</th>\n",
       "      <th>W_Snow_Depth</th>\n",
       "      <th>W_Max_humid</th>\n",
       "      <th>W_Avg_humid</th>\n",
       "      <th>W_Min_humid</th>\n",
       "      <th>W_Max_Dp</th>\n",
       "      <th>W_Avg_dp</th>\n",
       "      <th>W_Min_Dp</th>\n",
       "    </tr>\n",
       "  </thead>\n",
       "  <tbody>\n",
       "    <tr>\n",
       "      <th>0</th>\n",
       "      <td>2019-01-01</td>\n",
       "      <td>1064</td>\n",
       "      <td>674</td>\n",
       "      <td>1121463.0</td>\n",
       "      <td>897</td>\n",
       "      <td>167.0</td>\n",
       "      <td>5.2</td>\n",
       "      <td>-1.4</td>\n",
       "      <td>-8.0</td>\n",
       "      <td>37.0</td>\n",
       "      <td>...</td>\n",
       "      <td>3.2</td>\n",
       "      <td>58.0</td>\n",
       "      <td>1015.1</td>\n",
       "      <td>0.0</td>\n",
       "      <td>100.0</td>\n",
       "      <td>85.5</td>\n",
       "      <td>64.0</td>\n",
       "      <td>6.1</td>\n",
       "      <td>-0.6</td>\n",
       "      <td>-11.1</td>\n",
       "    </tr>\n",
       "    <tr>\n",
       "      <th>1</th>\n",
       "      <td>2019-01-02</td>\n",
       "      <td>2290</td>\n",
       "      <td>1135</td>\n",
       "      <td>2838818.0</td>\n",
       "      <td>2207</td>\n",
       "      <td>83.0</td>\n",
       "      <td>-0.5</td>\n",
       "      <td>-4.9</td>\n",
       "      <td>-9.3</td>\n",
       "      <td>20.9</td>\n",
       "      <td>...</td>\n",
       "      <td>8.0</td>\n",
       "      <td>0.0</td>\n",
       "      <td>1023.0</td>\n",
       "      <td>0.0</td>\n",
       "      <td>100.0</td>\n",
       "      <td>84.0</td>\n",
       "      <td>74.0</td>\n",
       "      <td>0.0</td>\n",
       "      <td>-5.1</td>\n",
       "      <td>-11.1</td>\n",
       "    </tr>\n",
       "    <tr>\n",
       "      <th>2</th>\n",
       "      <td>2019-01-03</td>\n",
       "      <td>2279</td>\n",
       "      <td>955</td>\n",
       "      <td>1650338.0</td>\n",
       "      <td>2228</td>\n",
       "      <td>51.0</td>\n",
       "      <td>0.8</td>\n",
       "      <td>-1.0</td>\n",
       "      <td>-2.8</td>\n",
       "      <td>37.0</td>\n",
       "      <td>...</td>\n",
       "      <td>0.0</td>\n",
       "      <td>46.0</td>\n",
       "      <td>1013.3</td>\n",
       "      <td>30.0</td>\n",
       "      <td>100.0</td>\n",
       "      <td>86.0</td>\n",
       "      <td>69.0</td>\n",
       "      <td>0.0</td>\n",
       "      <td>-1.9</td>\n",
       "      <td>-5.0</td>\n",
       "    </tr>\n",
       "    <tr>\n",
       "      <th>3</th>\n",
       "      <td>2019-01-04</td>\n",
       "      <td>3290</td>\n",
       "      <td>1381</td>\n",
       "      <td>2269606.0</td>\n",
       "      <td>3130</td>\n",
       "      <td>160.0</td>\n",
       "      <td>8.0</td>\n",
       "      <td>3.6</td>\n",
       "      <td>-0.8</td>\n",
       "      <td>29.0</td>\n",
       "      <td>...</td>\n",
       "      <td>8.0</td>\n",
       "      <td>54.0</td>\n",
       "      <td>1007.6</td>\n",
       "      <td>30.0</td>\n",
       "      <td>87.0</td>\n",
       "      <td>80.7</td>\n",
       "      <td>70.0</td>\n",
       "      <td>2.2</td>\n",
       "      <td>0.1</td>\n",
       "      <td>-1.1</td>\n",
       "    </tr>\n",
       "    <tr>\n",
       "      <th>4</th>\n",
       "      <td>2019-01-05</td>\n",
       "      <td>2160</td>\n",
       "      <td>1053</td>\n",
       "      <td>1468872.0</td>\n",
       "      <td>1937</td>\n",
       "      <td>223.0</td>\n",
       "      <td>4.0</td>\n",
       "      <td>1.2</td>\n",
       "      <td>-1.7</td>\n",
       "      <td>32.2</td>\n",
       "      <td>...</td>\n",
       "      <td>3.2</td>\n",
       "      <td>33.0</td>\n",
       "      <td>1006.1</td>\n",
       "      <td>0.0</td>\n",
       "      <td>93.0</td>\n",
       "      <td>83.7</td>\n",
       "      <td>75.0</td>\n",
       "      <td>1.1</td>\n",
       "      <td>-0.1</td>\n",
       "      <td>-1.1</td>\n",
       "    </tr>\n",
       "    <tr>\n",
       "      <th>...</th>\n",
       "      <td>...</td>\n",
       "      <td>...</td>\n",
       "      <td>...</td>\n",
       "      <td>...</td>\n",
       "      <td>...</td>\n",
       "      <td>...</td>\n",
       "      <td>...</td>\n",
       "      <td>...</td>\n",
       "      <td>...</td>\n",
       "      <td>...</td>\n",
       "      <td>...</td>\n",
       "      <td>...</td>\n",
       "      <td>...</td>\n",
       "      <td>...</td>\n",
       "      <td>...</td>\n",
       "      <td>...</td>\n",
       "      <td>...</td>\n",
       "      <td>...</td>\n",
       "      <td>...</td>\n",
       "      <td>...</td>\n",
       "      <td>...</td>\n",
       "    </tr>\n",
       "    <tr>\n",
       "      <th>1091</th>\n",
       "      <td>2021-12-27</td>\n",
       "      <td>1265</td>\n",
       "      <td>756</td>\n",
       "      <td>955753.0</td>\n",
       "      <td>873</td>\n",
       "      <td>392.0</td>\n",
       "      <td>0.1</td>\n",
       "      <td>-3.1</td>\n",
       "      <td>-6.2</td>\n",
       "      <td>59.5</td>\n",
       "      <td>...</td>\n",
       "      <td>9.7</td>\n",
       "      <td>48.0</td>\n",
       "      <td>1014.1</td>\n",
       "      <td>40.0</td>\n",
       "      <td>100.0</td>\n",
       "      <td>90.9</td>\n",
       "      <td>68.0</td>\n",
       "      <td>1.1</td>\n",
       "      <td>-2.3</td>\n",
       "      <td>-10.0</td>\n",
       "    </tr>\n",
       "    <tr>\n",
       "      <th>1092</th>\n",
       "      <td>2021-12-28</td>\n",
       "      <td>3054</td>\n",
       "      <td>1466</td>\n",
       "      <td>2356616.0</td>\n",
       "      <td>2025</td>\n",
       "      <td>1029.0</td>\n",
       "      <td>2.3</td>\n",
       "      <td>0.9</td>\n",
       "      <td>-0.6</td>\n",
       "      <td>40.2</td>\n",
       "      <td>...</td>\n",
       "      <td>3.2</td>\n",
       "      <td>57.0</td>\n",
       "      <td>1009.8</td>\n",
       "      <td>20.0</td>\n",
       "      <td>100.0</td>\n",
       "      <td>80.5</td>\n",
       "      <td>56.0</td>\n",
       "      <td>2.2</td>\n",
       "      <td>-1.4</td>\n",
       "      <td>-5.0</td>\n",
       "    </tr>\n",
       "    <tr>\n",
       "      <th>1093</th>\n",
       "      <td>2021-12-29</td>\n",
       "      <td>3521</td>\n",
       "      <td>1668</td>\n",
       "      <td>2896184.0</td>\n",
       "      <td>2440</td>\n",
       "      <td>1081.0</td>\n",
       "      <td>2.2</td>\n",
       "      <td>1.0</td>\n",
       "      <td>-0.3</td>\n",
       "      <td>32.2</td>\n",
       "      <td>...</td>\n",
       "      <td>4.8</td>\n",
       "      <td>0.0</td>\n",
       "      <td>1011.7</td>\n",
       "      <td>10.0</td>\n",
       "      <td>100.0</td>\n",
       "      <td>91.1</td>\n",
       "      <td>81.0</td>\n",
       "      <td>2.8</td>\n",
       "      <td>0.9</td>\n",
       "      <td>-1.1</td>\n",
       "    </tr>\n",
       "    <tr>\n",
       "      <th>1094</th>\n",
       "      <td>2021-12-30</td>\n",
       "      <td>4065</td>\n",
       "      <td>1785</td>\n",
       "      <td>2938443.0</td>\n",
       "      <td>2836</td>\n",
       "      <td>1229.0</td>\n",
       "      <td>2.2</td>\n",
       "      <td>1.1</td>\n",
       "      <td>0.0</td>\n",
       "      <td>24.1</td>\n",
       "      <td>...</td>\n",
       "      <td>4.8</td>\n",
       "      <td>0.0</td>\n",
       "      <td>1013.8</td>\n",
       "      <td>0.0</td>\n",
       "      <td>87.0</td>\n",
       "      <td>80.5</td>\n",
       "      <td>70.0</td>\n",
       "      <td>1.1</td>\n",
       "      <td>-0.4</td>\n",
       "      <td>-2.2</td>\n",
       "    </tr>\n",
       "    <tr>\n",
       "      <th>1095</th>\n",
       "      <td>2021-12-31</td>\n",
       "      <td>4832</td>\n",
       "      <td>1973</td>\n",
       "      <td>4279555.0</td>\n",
       "      <td>3186</td>\n",
       "      <td>1646.0</td>\n",
       "      <td>6.7</td>\n",
       "      <td>4.3</td>\n",
       "      <td>1.9</td>\n",
       "      <td>27.4</td>\n",
       "      <td>...</td>\n",
       "      <td>3.2</td>\n",
       "      <td>0.0</td>\n",
       "      <td>1010.7</td>\n",
       "      <td>0.0</td>\n",
       "      <td>100.0</td>\n",
       "      <td>93.1</td>\n",
       "      <td>81.0</td>\n",
       "      <td>3.9</td>\n",
       "      <td>2.9</td>\n",
       "      <td>0.0</td>\n",
       "    </tr>\n",
       "  </tbody>\n",
       "</table>\n",
       "<p>1096 rows × 21 columns</p>\n",
       "</div>"
      ],
      "text/plain": [
       "            Date  counts_trips  counts_Bike  trip_duration  \\\n",
       "0     2019-01-01          1064          674      1121463.0   \n",
       "1     2019-01-02          2290         1135      2838818.0   \n",
       "2     2019-01-03          2279          955      1650338.0   \n",
       "3     2019-01-04          3290         1381      2269606.0   \n",
       "4     2019-01-05          2160         1053      1468872.0   \n",
       "...          ...           ...          ...            ...   \n",
       "1091  2021-12-27          1265          756       955753.0   \n",
       "1092  2021-12-28          3054         1466      2356616.0   \n",
       "1093  2021-12-29          3521         1668      2896184.0   \n",
       "1094  2021-12-30          4065         1785      2938443.0   \n",
       "1095  2021-12-31          4832         1973      4279555.0   \n",
       "\n",
       "      counts_member_annual  counts_member_casual  W_Temp_Max  W_Temp_Avg  \\\n",
       "0                      897                 167.0         5.2        -1.4   \n",
       "1                     2207                  83.0        -0.5        -4.9   \n",
       "2                     2228                  51.0         0.8        -1.0   \n",
       "3                     3130                 160.0         8.0         3.6   \n",
       "4                     1937                 223.0         4.0         1.2   \n",
       "...                    ...                   ...         ...         ...   \n",
       "1091                   873                 392.0         0.1        -3.1   \n",
       "1092                  2025                1029.0         2.3         0.9   \n",
       "1093                  2440                1081.0         2.2         1.0   \n",
       "1094                  2836                1229.0         2.2         1.1   \n",
       "1095                  3186                1646.0         6.7         4.3   \n",
       "\n",
       "      W_Temp_Min  W_Max_wind  ...  W_Min_wind  W_Wind_Gust  W_Air_Pressure  \\\n",
       "0           -8.0        37.0  ...         3.2         58.0          1015.1   \n",
       "1           -9.3        20.9  ...         8.0          0.0          1023.0   \n",
       "2           -2.8        37.0  ...         0.0         46.0          1013.3   \n",
       "3           -0.8        29.0  ...         8.0         54.0          1007.6   \n",
       "4           -1.7        32.2  ...         3.2         33.0          1006.1   \n",
       "...          ...         ...  ...         ...          ...             ...   \n",
       "1091        -6.2        59.5  ...         9.7         48.0          1014.1   \n",
       "1092        -0.6        40.2  ...         3.2         57.0          1009.8   \n",
       "1093        -0.3        32.2  ...         4.8          0.0          1011.7   \n",
       "1094         0.0        24.1  ...         4.8          0.0          1013.8   \n",
       "1095         1.9        27.4  ...         3.2          0.0          1010.7   \n",
       "\n",
       "      W_Snow_Depth  W_Max_humid  W_Avg_humid  W_Min_humid  W_Max_Dp  W_Avg_dp  \\\n",
       "0              0.0        100.0         85.5         64.0       6.1      -0.6   \n",
       "1              0.0        100.0         84.0         74.0       0.0      -5.1   \n",
       "2             30.0        100.0         86.0         69.0       0.0      -1.9   \n",
       "3             30.0         87.0         80.7         70.0       2.2       0.1   \n",
       "4              0.0         93.0         83.7         75.0       1.1      -0.1   \n",
       "...            ...          ...          ...          ...       ...       ...   \n",
       "1091          40.0        100.0         90.9         68.0       1.1      -2.3   \n",
       "1092          20.0        100.0         80.5         56.0       2.2      -1.4   \n",
       "1093          10.0        100.0         91.1         81.0       2.8       0.9   \n",
       "1094           0.0         87.0         80.5         70.0       1.1      -0.4   \n",
       "1095           0.0        100.0         93.1         81.0       3.9       2.9   \n",
       "\n",
       "      W_Min_Dp  \n",
       "0        -11.1  \n",
       "1        -11.1  \n",
       "2         -5.0  \n",
       "3         -1.1  \n",
       "4         -1.1  \n",
       "...        ...  \n",
       "1091     -10.0  \n",
       "1092      -5.0  \n",
       "1093      -1.1  \n",
       "1094      -2.2  \n",
       "1095       0.0  \n",
       "\n",
       "[1096 rows x 21 columns]"
      ]
     },
     "execution_count": 2,
     "metadata": {},
     "output_type": "execute_result"
    }
   ],
   "source": [
    "df_0 = pd.read_csv('../Resources/Bike_weather_merge.csv')\n",
    "df_0"
   ]
  },
  {
   "cell_type": "code",
   "execution_count": 3,
   "id": "d48f8208",
   "metadata": {},
   "outputs": [
    {
     "data": {
      "text/plain": [
       "False"
      ]
     },
     "execution_count": 3,
     "metadata": {},
     "output_type": "execute_result"
    }
   ],
   "source": [
    "# double check if any nan values\n",
    "df_0.isnull().values.any()"
   ]
  },
  {
   "cell_type": "markdown",
   "id": "4ae200d4",
   "metadata": {},
   "source": [
    "## Approach 1: \n",
    "y = counts_trips  \n",
    "X = except counts_trips"
   ]
  },
  {
   "cell_type": "code",
   "execution_count": 4,
   "id": "6b7d0b84",
   "metadata": {},
   "outputs": [
    {
     "name": "stdout",
     "output_type": "stream",
     "text": [
      "X.shape: (1096, 19).\n",
      "y.shape: (1096,).\n"
     ]
    }
   ],
   "source": [
    "# split features X and output y (counts_trips)\n",
    "X = df_0.drop(columns=['counts_trips','Date'])\n",
    "y = df_0['counts_trips']\n",
    "print(f'X.shape: {X.shape}.')\n",
    "print(f'y.shape: {y.shape}.')"
   ]
  },
  {
   "cell_type": "code",
   "execution_count": 5,
   "id": "16e1e4bc",
   "metadata": {},
   "outputs": [
    {
     "name": "stdout",
     "output_type": "stream",
     "text": [
      "X_train: (822, 19).\n",
      "X_test: (274, 19).\n",
      "y_train: (822,).\n",
      "y_test: (274,).\n"
     ]
    }
   ],
   "source": [
    "X_train, X_test, y_train, y_test = train_test_split(X, y, random_state=78)\n",
    "print(f'X_train: {X_train.shape}.')\n",
    "print(f'X_test: {X_test.shape}.')\n",
    "print(f'y_train: {y_train.shape}.')\n",
    "print(f'y_test: {y_test.shape}.')"
   ]
  },
  {
   "cell_type": "code",
   "execution_count": 6,
   "id": "44bd750a",
   "metadata": {},
   "outputs": [],
   "source": [
    "# Linear Regression model \n",
    "model_lr = LinearRegression()\n",
    "model_lr.fit(X_train, y_train)\n",
    "y_pred = model_lr.predict(X_train)"
   ]
  },
  {
   "cell_type": "code",
   "execution_count": 9,
   "id": "38a7c85b",
   "metadata": {},
   "outputs": [
    {
     "name": "stdout",
     "output_type": "stream",
     "text": [
      "model: Linear Regression\n",
      "-----------------------------\n",
      "Mean absolute error: 3.507142130103089e-12\n",
      "Mean squared error: 2.366694426044693e-23\n",
      "Root mean squared error:4.8648683703104376e-12\n",
      "R2 score:1.0\n",
      "Overall model score: 1.0\n"
     ]
    }
   ],
   "source": [
    "# evaluation - linear regression\n",
    "mae = mean_absolute_error(y_train, y_pred)\n",
    "mse = mean_squared_error(y_train, y_pred)\n",
    "rmse = sqrt(mse)\n",
    "r2 = r2_score(y_train, y_pred)\n",
    "overall = model_lr.score(X_test, y_test)\n",
    "print(\"model: Linear Regression\")\n",
    "print(\"-----------------------------\")\n",
    "print(f'Mean absolute error: {mae}')\n",
    "print(f'Mean squared error: {mse}')\n",
    "print(f'Root mean squared error:{rmse}')\n",
    "print(f'R2 score:{r2}')\n",
    "print(f'Overall model score: {overall}')"
   ]
  },
  {
   "cell_type": "code",
   "execution_count": null,
   "id": "2c730a32",
   "metadata": {},
   "outputs": [],
   "source": [
    "## ? LR: how to get the model function to display the features' weight?"
   ]
  },
  {
   "cell_type": "code",
   "execution_count": 10,
   "id": "aa3bec45",
   "metadata": {},
   "outputs": [],
   "source": [
    "# Random forest model\n",
    "model_rf = RandomForestRegressor(random_state=78)\n",
    "model_rf.fit(X_train, y_train)\n",
    "y_pred = model_rf.predict(X_train)"
   ]
  },
  {
   "cell_type": "code",
   "execution_count": 11,
   "id": "6d4d3f86",
   "metadata": {},
   "outputs": [
    {
     "name": "stdout",
     "output_type": "stream",
     "text": [
      "model: Random Forest\n",
      "-----------------------------\n",
      "Mean absolute error: 115.62957420924576\n",
      "Mean squared error: 32470.133940267664\n",
      "Root mean squared error:180.19471118839107\n",
      "R2 score:0.9989689422496915\n",
      "Overall model score: 0.9939712365800905\n",
      "feature_importances: [5.90177755e-01 3.58809921e-01 1.56380136e-02 2.86878262e-02\n",
      " 1.20506176e-03 1.06582562e-03 6.69166457e-04 3.94533907e-04\n",
      " 4.22385059e-04 1.78078389e-04 4.24713083e-04 4.23978869e-04\n",
      " 1.17643138e-05 2.14067986e-04 3.41503259e-04 3.29013061e-04\n",
      " 3.10686332e-04 4.47199396e-04 2.48507100e-04]\n",
      "n_features: 19\n",
      "n_outputs: 1\n"
     ]
    }
   ],
   "source": [
    "# evaluation : Random Forest\n",
    "mae = mean_absolute_error(y_train, y_pred)\n",
    "mse = mean_squared_error(y_train, y_pred)\n",
    "rmse = sqrt(mse)\n",
    "r2 = r2_score(y_train, y_pred)\n",
    "overall = model_rf.score(X_test, y_test)\n",
    "print(\"model: Random Forest\")\n",
    "print(\"-----------------------------\")\n",
    "print(f'Mean absolute error: {mae}')\n",
    "print(f'Mean squared error: {mse}')\n",
    "print(f'Root mean squared error:{rmse}')\n",
    "print(f'R2 score:{r2}')\n",
    "print(f'Overall model score: {overall}')\n",
    "print (\"feature_importances:\",model_rf.feature_importances_)\n",
    "print (\"n_features:\",model_rf.n_features_)\n",
    "print (\"n_outputs:\",model_rf.n_outputs_) \n"
   ]
  },
  {
   "cell_type": "code",
   "execution_count": 12,
   "id": "b333aaae",
   "metadata": {
    "scrolled": true
   },
   "outputs": [
    {
     "name": "stdout",
     "output_type": "stream",
     "text": [
      "[5.90177755e-01 3.58809921e-01 1.56380136e-02 2.86878262e-02\n",
      " 1.20506176e-03 1.06582562e-03 6.69166457e-04 3.94533907e-04\n",
      " 4.22385059e-04 1.78078389e-04 4.24713083e-04 4.23978869e-04\n",
      " 1.17643138e-05 2.14067986e-04 3.41503259e-04 3.29013061e-04\n",
      " 3.10686332e-04 4.47199396e-04 2.48507100e-04]\n"
     ]
    }
   ],
   "source": [
    "features = model_rf.feature_importances_\n",
    "print(features)"
   ]
  },
  {
   "cell_type": "markdown",
   "id": "c1491fcb",
   "metadata": {},
   "source": [
    "### Result :  \n",
    "y=trip counts, most weighted features are bike counts, durations,no much based on the weather conditions.  \n",
    "Approach 1 : X \n"
   ]
  },
  {
   "cell_type": "markdown",
   "id": "37948ff3",
   "metadata": {},
   "source": [
    "## Approach 2\n",
    "Approach 2: y = duration, X= avg_temp, avg_wind, wind_gust, air_pressure, snow, avg_humid, avg_dp"
   ]
  },
  {
   "cell_type": "code",
   "execution_count": 14,
   "id": "45ee7918",
   "metadata": {},
   "outputs": [
    {
     "name": "stdout",
     "output_type": "stream",
     "text": [
      "X2.shape: (1096, 7).\n",
      "y2.shape: (1096,).\n"
     ]
    }
   ],
   "source": [
    "y2 = df_0['trip_duration']\n",
    "X2 = df_0.drop(columns=['trip_duration','Date','counts_trips','counts_Bike','counts_member_annual','counts_member_casual', 'W_Temp_Max','W_Temp_Min', 'W_Max_wind','W_Min_wind', 'W_Max_humid','W_Min_humid', 'W_Max_Dp','W_Min_Dp'])\n",
    "print(f'X2.shape: {X2.shape}.')\n",
    "print(f'y2.shape: {y2.shape}.')"
   ]
  },
  {
   "cell_type": "code",
   "execution_count": 15,
   "id": "f3f74f9c",
   "metadata": {},
   "outputs": [
    {
     "name": "stdout",
     "output_type": "stream",
     "text": [
      "X_train: (822, 7).\n",
      "X_test: (274, 7).\n",
      "y_train: (822,).\n",
      "y_test: (274,).\n"
     ]
    }
   ],
   "source": [
    "X_train, X_test, y_train, y_test = train_test_split(X2, y2, random_state=78)\n",
    "print(f'X_train: {X_train.shape}.')\n",
    "print(f'X_test: {X_test.shape}.')\n",
    "print(f'y_train: {y_train.shape}.')\n",
    "print(f'y_test: {y_test.shape}.')"
   ]
  },
  {
   "cell_type": "code",
   "execution_count": 16,
   "id": "188a5b02",
   "metadata": {},
   "outputs": [],
   "source": [
    "# Linear Regression\n",
    "model_lr = LinearRegression()\n",
    "model_lr.fit(X_train, y_train)\n",
    "y_pred = model_lr.predict(X_train)"
   ]
  },
  {
   "cell_type": "code",
   "execution_count": 17,
   "id": "e482e831",
   "metadata": {},
   "outputs": [
    {
     "name": "stdout",
     "output_type": "stream",
     "text": [
      "model: Linear Regression\n",
      "-----------------------------\n",
      "Mean absolute error: 2898617.8051961428\n",
      "Mean squared error: 19112705117582.133\n",
      "Root mean squared error:4371807.991847553\n",
      "R2 score:0.6616061601424754\n",
      "Overall model score: 0.6113668106588923\n"
     ]
    }
   ],
   "source": [
    "# evaluation - linear regression\n",
    "mae = mean_absolute_error(y_train, y_pred)\n",
    "mse = mean_squared_error(y_train, y_pred)\n",
    "rmse = sqrt(mse)\n",
    "r2 = r2_score(y_train, y_pred)\n",
    "overall = model_lr.score(X_test, y_test)\n",
    "print(\"model: Linear Regression\")\n",
    "print(\"-----------------------------\")\n",
    "print(f'Mean absolute error: {mae}')\n",
    "print(f'Mean squared error: {mse}')\n",
    "print(f'Root mean squared error:{rmse}')\n",
    "print(f'R2 score:{r2}')\n",
    "print(f'Overall model score: {overall}')"
   ]
  },
  {
   "cell_type": "code",
   "execution_count": 18,
   "id": "08971592",
   "metadata": {},
   "outputs": [],
   "source": [
    "# Random Forest\n",
    "model_rf = RandomForestRegressor(random_state=78)\n",
    "model_rf.fit(X_train, y_train)\n",
    "y_pred = model_rf.predict(X_train)"
   ]
  },
  {
   "cell_type": "code",
   "execution_count": 19,
   "id": "742a0512",
   "metadata": {
    "scrolled": true
   },
   "outputs": [
    {
     "name": "stdout",
     "output_type": "stream",
     "text": [
      "model: Random Forest\n",
      "-----------------------------\n",
      "Mean absolute error: 1047533.774026764\n",
      "Mean squared error: 2810852772240.09\n",
      "Root mean squared error:1676559.8027628153\n",
      "R2 score:0.9502333522638045\n",
      "Overall model score: 0.6402067789633046\n",
      "feature_importances: [0.69310303 0.04746964 0.04085829 0.06743581 0.00131287 0.10377995\n",
      " 0.04604042]\n",
      "n_features: 7\n",
      "n_outputs: 1\n"
     ]
    }
   ],
   "source": [
    "# evaluation : Random Forest\n",
    "mae = mean_absolute_error(y_train, y_pred)\n",
    "mse = mean_squared_error(y_train, y_pred)\n",
    "rmse = sqrt(mse)\n",
    "r2 = r2_score(y_train, y_pred)\n",
    "overall = model_rf.score(X_test, y_test)\n",
    "print(\"model: Random Forest\")\n",
    "print(\"-----------------------------\")\n",
    "print(f'Mean absolute error: {mae}')\n",
    "print(f'Mean squared error: {mse}')\n",
    "print(f'Root mean squared error:{rmse}')\n",
    "print(f'R2 score:{r2}')\n",
    "print(f'Overall model score: {overall}')\n",
    "print (\"feature_importances:\",model_rf.feature_importances_)\n",
    "print (\"n_features:\",model_rf.n_features_)\n",
    "print (\"n_outputs:\",model_rf.n_outputs_) \n"
   ]
  },
  {
   "cell_type": "markdown",
   "id": "3f1b2bea",
   "metadata": {},
   "source": [
    "### Results:\n",
    "Approach 2: rmse too large: variance too far away from true value. \n",
    "rf > lr"
   ]
  },
  {
   "cell_type": "markdown",
   "id": "e705e3a5",
   "metadata": {},
   "source": [
    "## Appraoch 3 : \n",
    "y = counts_bike:\n",
    "X = avg_temp, avg_wind, avg_humid, wind_gust, avg_dp, snow, air_pressure"
   ]
  },
  {
   "cell_type": "code",
   "execution_count": 26,
   "id": "305c499b",
   "metadata": {},
   "outputs": [
    {
     "name": "stdout",
     "output_type": "stream",
     "text": [
      "X3.shape: (1096, 7).\n",
      "y3.shape: (1096,).\n"
     ]
    },
    {
     "data": {
      "text/plain": [
       "Index(['W_Temp_Avg', 'W_Avg_wind', 'W_Wind_Gust', 'W_Air_Pressure',\n",
       "       'W_Snow_Depth', 'W_Avg_humid', 'W_Avg_dp'],\n",
       "      dtype='object')"
      ]
     },
     "execution_count": 26,
     "metadata": {},
     "output_type": "execute_result"
    }
   ],
   "source": [
    "y3 = df_0['counts_Bike']\n",
    "X3 = df_0.drop(columns=['Date', 'counts_trips','trip_duration','counts_Bike',\n",
    "       'counts_member_annual', 'counts_member_casual', 'W_Temp_Max','W_Temp_Min', 'W_Max_wind','W_Min_wind','W_Max_humid','W_Min_humid', 'W_Max_Dp','W_Min_Dp' ])\n",
    "print(f'X3.shape: {X3.shape}.')\n",
    "print(f'y3.shape: {y3.shape}.')\n",
    "X3.columns"
   ]
  },
  {
   "cell_type": "code",
   "execution_count": 21,
   "id": "ee14a5d5",
   "metadata": {},
   "outputs": [
    {
     "name": "stdout",
     "output_type": "stream",
     "text": [
      "X_train: (822, 7).\n",
      "X_test: (274, 7).\n",
      "y_train: (822,).\n",
      "y_test: (274,).\n"
     ]
    }
   ],
   "source": [
    "X_train, X_test, y_train, y_test = train_test_split(X3, y3, random_state=78)\n",
    "print(f'X_train: {X_train.shape}.')\n",
    "print(f'X_test: {X_test.shape}.')\n",
    "print(f'y_train: {y_train.shape}.')\n",
    "print(f'y_test: {y_test.shape}.')"
   ]
  },
  {
   "cell_type": "code",
   "execution_count": 22,
   "id": "270fee9d",
   "metadata": {},
   "outputs": [],
   "source": [
    "# Linear Regression\n",
    "model_lr = LinearRegression()\n",
    "model_lr.fit(X_train, y_train)\n",
    "y_pred = model_lr.predict(X_train)"
   ]
  },
  {
   "cell_type": "code",
   "execution_count": 23,
   "id": "cfed430a",
   "metadata": {},
   "outputs": [
    {
     "name": "stdout",
     "output_type": "stream",
     "text": [
      "model: Linear Regression\n",
      "-----------------------------\n",
      "Mean absolute error: 433.92907921008003\n",
      "Mean squared error: 284447.2566283849\n",
      "Root mean squared error:533.3359697492613\n",
      "R2 score:0.758401916574934\n",
      "Overall model score: 0.7529227888869596\n"
     ]
    }
   ],
   "source": [
    "# evaluation - linear regression\n",
    "mae = mean_absolute_error(y_train, y_pred)\n",
    "mse = mean_squared_error(y_train, y_pred)\n",
    "rmse = sqrt(mse)\n",
    "r2 = r2_score(y_train, y_pred)\n",
    "overall = model_lr.score(X_test, y_test)\n",
    "print(\"model: Linear Regression\")\n",
    "print(\"-----------------------------\")\n",
    "print(f'Mean absolute error: {mae}')\n",
    "print(f'Mean squared error: {mse}')\n",
    "print(f'Root mean squared error:{rmse}')\n",
    "print(f'R2 score:{r2}')\n",
    "print(f'Overall model score: {overall}')"
   ]
  },
  {
   "cell_type": "code",
   "execution_count": 24,
   "id": "bf80f8ab",
   "metadata": {},
   "outputs": [],
   "source": [
    "# Random Forest\n",
    "model_rf = RandomForestRegressor(random_state=78)\n",
    "model_rf.fit(X_train, y_train)\n",
    "y_pred = model_rf.predict(X_train)"
   ]
  },
  {
   "cell_type": "code",
   "execution_count": 25,
   "id": "38c36a6c",
   "metadata": {},
   "outputs": [
    {
     "name": "stdout",
     "output_type": "stream",
     "text": [
      "model: Random Forest\n",
      "-----------------------------\n",
      "Mean absolute error: 161.02085158150854\n",
      "Mean squared error: 42913.242823357665\n",
      "Root mean squared error:207.15511778220124\n",
      "R2 score:0.9635512138785624\n",
      "Overall model score: 0.7809228324187313\n",
      "feature_importances: [0.72344709 0.04846094 0.03794404 0.05178519 0.01088794 0.08389985\n",
      " 0.04357494]\n",
      "n_features: 7\n",
      "n_outputs: 1\n"
     ]
    }
   ],
   "source": [
    "# evaluation\n",
    "mae = mean_absolute_error(y_train, y_pred)\n",
    "mse = mean_squared_error(y_train, y_pred)\n",
    "rmse = sqrt(mse)\n",
    "r2 = r2_score(y_train, y_pred)\n",
    "overall = model_rf.score(X_test, y_test)\n",
    "print(\"model: Random Forest\")\n",
    "print(\"-----------------------------\")\n",
    "print(f'Mean absolute error: {mae}')\n",
    "print(f'Mean squared error: {mse}')\n",
    "print(f'Root mean squared error:{rmse}')\n",
    "print(f'R2 score:{r2}')\n",
    "print(f'Overall model score: {overall}')\n",
    "print (\"feature_importances:\",model_rf.feature_importances_)\n",
    "print (\"n_features:\",model_rf.n_features_)\n",
    "print (\"n_outputs:\",model_rf.n_outputs_) \n",
    "     "
   ]
  },
  {
   "cell_type": "markdown",
   "id": "96296fa0",
   "metadata": {},
   "source": [
    "### Results: \n",
    "rf > lr"
   ]
  },
  {
   "cell_type": "markdown",
   "id": "335878e9",
   "metadata": {},
   "source": [
    "## Approach 4: \n",
    "y = counts_trips  \n",
    "X = X = avg_temp, avg_wind, avg_humid, wind_gust, avg_dp, snow, air_pressure"
   ]
  },
  {
   "cell_type": "code",
   "execution_count": 34,
   "id": "ae2bbed7",
   "metadata": {},
   "outputs": [
    {
     "name": "stdout",
     "output_type": "stream",
     "text": [
      "X4.shape: (1096, 7).\n",
      "y4.shape: (1096,).\n"
     ]
    },
    {
     "data": {
      "text/plain": [
       "Index(['W_Temp_Avg', 'W_Avg_wind', 'W_Wind_Gust', 'W_Air_Pressure',\n",
       "       'W_Snow_Depth', 'W_Avg_humid', 'W_Avg_dp'],\n",
       "      dtype='object')"
      ]
     },
     "execution_count": 34,
     "metadata": {},
     "output_type": "execute_result"
    }
   ],
   "source": [
    "y4 = df_0['counts_trips']\n",
    "X4 = df_0.drop(columns=['trip_duration','Date','counts_trips','counts_Bike','counts_member_annual','counts_member_casual', 'W_Temp_Max','W_Temp_Min', 'W_Max_wind','W_Min_wind', 'W_Max_humid','W_Min_humid', 'W_Max_Dp','W_Min_Dp'])\n",
    "print(f'X4.shape: {X4.shape}.')\n",
    "print(f'y4.shape: {y4.shape}.')\n",
    "X4.columns"
   ]
  },
  {
   "cell_type": "code",
   "execution_count": 29,
   "id": "3094809f",
   "metadata": {},
   "outputs": [
    {
     "name": "stdout",
     "output_type": "stream",
     "text": [
      "X_train: (822, 7).\n",
      "X_test: (274, 7).\n",
      "y_train: (822,).\n",
      "y_test: (274,).\n"
     ]
    }
   ],
   "source": [
    "X_train, X_test, y_train, y_test = train_test_split(X2, y2, random_state=78)\n",
    "print(f'X_train: {X_train.shape}.')\n",
    "print(f'X_test: {X_test.shape}.')\n",
    "print(f'y_train: {y_train.shape}.')\n",
    "print(f'y_test: {y_test.shape}.')"
   ]
  },
  {
   "cell_type": "code",
   "execution_count": 30,
   "id": "70eb05e1",
   "metadata": {},
   "outputs": [],
   "source": [
    "# Linear Regression\n",
    "model_lr = LinearRegression()\n",
    "model_lr.fit(X_train, y_train)\n",
    "y_pred = model_lr.predict(X_train)"
   ]
  },
  {
   "cell_type": "code",
   "execution_count": 31,
   "id": "5804cb16",
   "metadata": {},
   "outputs": [
    {
     "name": "stdout",
     "output_type": "stream",
     "text": [
      "model: Linear Regression\n",
      "-----------------------------\n",
      "Mean absolute error: 2898617.8051961428\n",
      "Mean squared error: 19112705117582.133\n",
      "Root mean squared error:4371807.991847553\n",
      "R2 score:0.6616061601424754\n",
      "Overall model score: 0.6113668106588923\n"
     ]
    }
   ],
   "source": [
    "# evaluation - linear regression\n",
    "mae = mean_absolute_error(y_train, y_pred)\n",
    "mse = mean_squared_error(y_train, y_pred)\n",
    "rmse = sqrt(mse)\n",
    "r2 = r2_score(y_train, y_pred)\n",
    "overall = model_lr.score(X_test, y_test)\n",
    "print(\"model: Linear Regression\")\n",
    "print(\"-----------------------------\")\n",
    "print(f'Mean absolute error: {mae}')\n",
    "print(f'Mean squared error: {mse}')\n",
    "print(f'Root mean squared error:{rmse}')\n",
    "print(f'R2 score:{r2}')\n",
    "print(f'Overall model score: {overall}')"
   ]
  },
  {
   "cell_type": "code",
   "execution_count": 32,
   "id": "fb3337b8",
   "metadata": {},
   "outputs": [],
   "source": [
    "# Random Forest\n",
    "model_rf = RandomForestRegressor(random_state=78)\n",
    "model_rf.fit(X_train, y_train)\n",
    "y_pred = model_rf.predict(X_train)"
   ]
  },
  {
   "cell_type": "code",
   "execution_count": 33,
   "id": "66d92cae",
   "metadata": {},
   "outputs": [
    {
     "name": "stdout",
     "output_type": "stream",
     "text": [
      "model: Random Forest\n",
      "-----------------------------\n",
      "Mean absolute error: 1047533.774026764\n",
      "Mean squared error: 2810852772240.09\n",
      "Root mean squared error:1676559.8027628153\n",
      "R2 score:0.9502333522638045\n",
      "Overall model score: 0.6402067789633046\n",
      "feature_importances: [0.69310303 0.04746964 0.04085829 0.06743581 0.00131287 0.10377995\n",
      " 0.04604042]\n",
      "n_features: 7\n",
      "n_outputs: 1\n"
     ]
    }
   ],
   "source": [
    "# evaluation\n",
    "mae = mean_absolute_error(y_train, y_pred)\n",
    "mse = mean_squared_error(y_train, y_pred)\n",
    "rmse = sqrt(mse)\n",
    "r2 = r2_score(y_train, y_pred)\n",
    "overall = model_rf.score(X_test, y_test)\n",
    "print(\"model: Random Forest\")\n",
    "print(\"-----------------------------\")\n",
    "print(f'Mean absolute error: {mae}')\n",
    "print(f'Mean squared error: {mse}')\n",
    "print(f'Root mean squared error:{rmse}')\n",
    "print(f'R2 score:{r2}')\n",
    "print(f'Overall model score: {overall}')\n",
    "print (\"feature_importances:\",model_rf.feature_importances_)\n",
    "print (\"n_features:\",model_rf.n_features_)\n",
    "print (\"n_outputs:\",model_rf.n_outputs_) "
   ]
  },
  {
   "cell_type": "code",
   "execution_count": null,
   "id": "5a871d75",
   "metadata": {},
   "outputs": [],
   "source": []
  },
  {
   "cell_type": "code",
   "execution_count": null,
   "id": "cc6f4ab9",
   "metadata": {},
   "outputs": [],
   "source": []
  },
  {
   "cell_type": "code",
   "execution_count": null,
   "id": "969ae5cd",
   "metadata": {},
   "outputs": [],
   "source": []
  }
 ],
 "metadata": {
  "kernelspec": {
   "display_name": "PythonData",
   "language": "python",
   "name": "pythondata"
  },
  "language_info": {
   "codemirror_mode": {
    "name": "ipython",
    "version": 3
   },
   "file_extension": ".py",
   "mimetype": "text/x-python",
   "name": "python",
   "nbconvert_exporter": "python",
   "pygments_lexer": "ipython3",
   "version": "3.8.8"
  }
 },
 "nbformat": 4,
 "nbformat_minor": 5
}
