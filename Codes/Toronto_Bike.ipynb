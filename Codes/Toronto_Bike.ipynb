{
 "cells": [
  {
   "cell_type": "code",
   "execution_count": 1,
   "id": "1c23b001",
   "metadata": {},
   "outputs": [],
   "source": [
    "# Initial imports.\n",
    "%matplotlib inline\n",
    "from matplotlib import pyplot as plt\n",
    "from sklearn.datasets import make_classification\n",
    "import numpy as np\n",
    "import pandas as pd\n",
    "from path import Path\n",
    "from sklearn.ensemble import RandomForestClassifier\n",
    "from sklearn.linear_model import LogisticRegression\n",
    "from sklearn.preprocessing import StandardScaler\n",
    "from sklearn.preprocessing import MinMaxScaler\n",
    "from sklearn.model_selection import train_test_split\n",
    "from sklearn.metrics import confusion_matrix, accuracy_score, classification_report\n",
    "from sklearn.tree import DecisionTreeRegressor\n",
    "from sklearn.ensemble import RandomForestRegressor"
   ]
  },
  {
   "cell_type": "code",
   "execution_count": 2,
   "id": "89d79d36",
   "metadata": {},
   "outputs": [
    {
     "data": {
      "text/html": [
       "<div>\n",
       "<style scoped>\n",
       "    .dataframe tbody tr th:only-of-type {\n",
       "        vertical-align: middle;\n",
       "    }\n",
       "\n",
       "    .dataframe tbody tr th {\n",
       "        vertical-align: top;\n",
       "    }\n",
       "\n",
       "    .dataframe thead th {\n",
       "        text-align: right;\n",
       "    }\n",
       "</style>\n",
       "<table border=\"1\" class=\"dataframe\">\n",
       "  <thead>\n",
       "    <tr style=\"text-align: right;\">\n",
       "      <th></th>\n",
       "      <th>Date</th>\n",
       "      <th>counts_trips</th>\n",
       "      <th>counts_Bike</th>\n",
       "      <th>trip_duration</th>\n",
       "      <th>counts_member_annual</th>\n",
       "      <th>counts_member_casual</th>\n",
       "      <th>W_Temp_Max</th>\n",
       "      <th>W_Temp_Avg</th>\n",
       "      <th>W_Temp_Min</th>\n",
       "      <th>W_Max_wind</th>\n",
       "      <th>...</th>\n",
       "      <th>W_Min_wind</th>\n",
       "      <th>W_Wind_Gust</th>\n",
       "      <th>W_Air_Pressure</th>\n",
       "      <th>W_Snow_Depth</th>\n",
       "      <th>W_Max_humid</th>\n",
       "      <th>W_Avg_humid</th>\n",
       "      <th>W_Min_humid</th>\n",
       "      <th>W_Max_Dp</th>\n",
       "      <th>W_Avg_dp</th>\n",
       "      <th>W_Min_Dp</th>\n",
       "    </tr>\n",
       "  </thead>\n",
       "  <tbody>\n",
       "    <tr>\n",
       "      <th>0</th>\n",
       "      <td>1/1/2019</td>\n",
       "      <td>1064</td>\n",
       "      <td>674</td>\n",
       "      <td>1121463</td>\n",
       "      <td>897</td>\n",
       "      <td>167</td>\n",
       "      <td>5.2</td>\n",
       "      <td>-1.4</td>\n",
       "      <td>-8.0</td>\n",
       "      <td>37.0</td>\n",
       "      <td>...</td>\n",
       "      <td>3.2</td>\n",
       "      <td>58</td>\n",
       "      <td>1015.1</td>\n",
       "      <td>0</td>\n",
       "      <td>100</td>\n",
       "      <td>85.5</td>\n",
       "      <td>64</td>\n",
       "      <td>6.1</td>\n",
       "      <td>-0.6</td>\n",
       "      <td>-11.1</td>\n",
       "    </tr>\n",
       "    <tr>\n",
       "      <th>1</th>\n",
       "      <td>1/2/2019</td>\n",
       "      <td>2290</td>\n",
       "      <td>1135</td>\n",
       "      <td>2838818</td>\n",
       "      <td>2207</td>\n",
       "      <td>83</td>\n",
       "      <td>-0.5</td>\n",
       "      <td>-4.9</td>\n",
       "      <td>-9.3</td>\n",
       "      <td>20.9</td>\n",
       "      <td>...</td>\n",
       "      <td>8.0</td>\n",
       "      <td>0</td>\n",
       "      <td>1023.0</td>\n",
       "      <td>0</td>\n",
       "      <td>100</td>\n",
       "      <td>84.0</td>\n",
       "      <td>74</td>\n",
       "      <td>0.0</td>\n",
       "      <td>-5.1</td>\n",
       "      <td>-11.1</td>\n",
       "    </tr>\n",
       "    <tr>\n",
       "      <th>2</th>\n",
       "      <td>1/3/2019</td>\n",
       "      <td>2279</td>\n",
       "      <td>955</td>\n",
       "      <td>1650338</td>\n",
       "      <td>2228</td>\n",
       "      <td>51</td>\n",
       "      <td>0.8</td>\n",
       "      <td>-1.0</td>\n",
       "      <td>-2.8</td>\n",
       "      <td>37.0</td>\n",
       "      <td>...</td>\n",
       "      <td>0.0</td>\n",
       "      <td>46</td>\n",
       "      <td>1013.3</td>\n",
       "      <td>30</td>\n",
       "      <td>100</td>\n",
       "      <td>86.0</td>\n",
       "      <td>69</td>\n",
       "      <td>0.0</td>\n",
       "      <td>-1.9</td>\n",
       "      <td>-5.0</td>\n",
       "    </tr>\n",
       "    <tr>\n",
       "      <th>3</th>\n",
       "      <td>1/4/2019</td>\n",
       "      <td>3290</td>\n",
       "      <td>1381</td>\n",
       "      <td>2269606</td>\n",
       "      <td>3130</td>\n",
       "      <td>160</td>\n",
       "      <td>8.0</td>\n",
       "      <td>3.6</td>\n",
       "      <td>-0.8</td>\n",
       "      <td>29.0</td>\n",
       "      <td>...</td>\n",
       "      <td>8.0</td>\n",
       "      <td>54</td>\n",
       "      <td>1007.6</td>\n",
       "      <td>30</td>\n",
       "      <td>87</td>\n",
       "      <td>80.7</td>\n",
       "      <td>70</td>\n",
       "      <td>2.2</td>\n",
       "      <td>0.1</td>\n",
       "      <td>-1.1</td>\n",
       "    </tr>\n",
       "    <tr>\n",
       "      <th>4</th>\n",
       "      <td>1/5/2019</td>\n",
       "      <td>2160</td>\n",
       "      <td>1053</td>\n",
       "      <td>1468872</td>\n",
       "      <td>1937</td>\n",
       "      <td>223</td>\n",
       "      <td>4.0</td>\n",
       "      <td>1.2</td>\n",
       "      <td>-1.7</td>\n",
       "      <td>32.2</td>\n",
       "      <td>...</td>\n",
       "      <td>3.2</td>\n",
       "      <td>33</td>\n",
       "      <td>1006.1</td>\n",
       "      <td>0</td>\n",
       "      <td>93</td>\n",
       "      <td>83.7</td>\n",
       "      <td>75</td>\n",
       "      <td>1.1</td>\n",
       "      <td>-0.1</td>\n",
       "      <td>-1.1</td>\n",
       "    </tr>\n",
       "  </tbody>\n",
       "</table>\n",
       "<p>5 rows × 21 columns</p>\n",
       "</div>"
      ],
      "text/plain": [
       "       Date  counts_trips  counts_Bike  trip_duration  counts_member_annual  \\\n",
       "0  1/1/2019          1064          674        1121463                   897   \n",
       "1  1/2/2019          2290         1135        2838818                  2207   \n",
       "2  1/3/2019          2279          955        1650338                  2228   \n",
       "3  1/4/2019          3290         1381        2269606                  3130   \n",
       "4  1/5/2019          2160         1053        1468872                  1937   \n",
       "\n",
       "   counts_member_casual  W_Temp_Max  W_Temp_Avg  W_Temp_Min  W_Max_wind  ...  \\\n",
       "0                   167         5.2        -1.4        -8.0        37.0  ...   \n",
       "1                    83        -0.5        -4.9        -9.3        20.9  ...   \n",
       "2                    51         0.8        -1.0        -2.8        37.0  ...   \n",
       "3                   160         8.0         3.6        -0.8        29.0  ...   \n",
       "4                   223         4.0         1.2        -1.7        32.2  ...   \n",
       "\n",
       "   W_Min_wind  W_Wind_Gust  W_Air_Pressure  W_Snow_Depth  W_Max_humid  \\\n",
       "0         3.2           58          1015.1             0          100   \n",
       "1         8.0            0          1023.0             0          100   \n",
       "2         0.0           46          1013.3            30          100   \n",
       "3         8.0           54          1007.6            30           87   \n",
       "4         3.2           33          1006.1             0           93   \n",
       "\n",
       "   W_Avg_humid  W_Min_humid  W_Max_Dp  W_Avg_dp  W_Min_Dp  \n",
       "0         85.5           64       6.1      -0.6     -11.1  \n",
       "1         84.0           74       0.0      -5.1     -11.1  \n",
       "2         86.0           69       0.0      -1.9      -5.0  \n",
       "3         80.7           70       2.2       0.1      -1.1  \n",
       "4         83.7           75       1.1      -0.1      -1.1  \n",
       "\n",
       "[5 rows x 21 columns]"
      ]
     },
     "execution_count": 2,
     "metadata": {},
     "output_type": "execute_result"
    }
   ],
   "source": [
    "# Loading data\n",
    "file_path = Path(\"Resource/Bike_weather_merge.csv\")\n",
    "df_bike = pd.read_csv(file_path)\n",
    "df_bike.head()"
   ]
  },
  {
   "cell_type": "code",
   "execution_count": 3,
   "id": "066c2b5c",
   "metadata": {},
   "outputs": [
    {
     "data": {
      "text/html": [
       "<div>\n",
       "<style scoped>\n",
       "    .dataframe tbody tr th:only-of-type {\n",
       "        vertical-align: middle;\n",
       "    }\n",
       "\n",
       "    .dataframe tbody tr th {\n",
       "        vertical-align: top;\n",
       "    }\n",
       "\n",
       "    .dataframe thead th {\n",
       "        text-align: right;\n",
       "    }\n",
       "</style>\n",
       "<table border=\"1\" class=\"dataframe\">\n",
       "  <thead>\n",
       "    <tr style=\"text-align: right;\">\n",
       "      <th></th>\n",
       "      <th>counts_trips</th>\n",
       "      <th>counts_Bike</th>\n",
       "      <th>trip_duration</th>\n",
       "      <th>counts_member_annual</th>\n",
       "      <th>counts_member_casual</th>\n",
       "      <th>W_Temp_Max</th>\n",
       "      <th>W_Temp_Avg</th>\n",
       "      <th>W_Temp_Min</th>\n",
       "      <th>W_Max_wind</th>\n",
       "      <th>W_Avg_wind</th>\n",
       "      <th>W_Min_wind</th>\n",
       "      <th>W_Wind_Gust</th>\n",
       "      <th>W_Air_Pressure</th>\n",
       "      <th>W_Snow_Depth</th>\n",
       "      <th>W_Max_humid</th>\n",
       "      <th>W_Avg_humid</th>\n",
       "      <th>W_Min_humid</th>\n",
       "      <th>W_Max_Dp</th>\n",
       "      <th>W_Avg_dp</th>\n",
       "      <th>W_Min_Dp</th>\n",
       "    </tr>\n",
       "  </thead>\n",
       "  <tbody>\n",
       "    <tr>\n",
       "      <th>count</th>\n",
       "      <td>1096.000000</td>\n",
       "      <td>1096.000000</td>\n",
       "      <td>1.096000e+03</td>\n",
       "      <td>1096.000000</td>\n",
       "      <td>1096.000000</td>\n",
       "      <td>1096.000000</td>\n",
       "      <td>1096.000000</td>\n",
       "      <td>1096.000000</td>\n",
       "      <td>1096.000000</td>\n",
       "      <td>1096.000000</td>\n",
       "      <td>1096.000000</td>\n",
       "      <td>1096.000000</td>\n",
       "      <td>1096.000000</td>\n",
       "      <td>1096.000000</td>\n",
       "      <td>1096.000000</td>\n",
       "      <td>1096.000000</td>\n",
       "      <td>1096.000000</td>\n",
       "      <td>1096.000000</td>\n",
       "      <td>1096.000000</td>\n",
       "      <td>1096.000000</td>\n",
       "    </tr>\n",
       "    <tr>\n",
       "      <th>mean</th>\n",
       "      <td>8143.673358</td>\n",
       "      <td>2384.500912</td>\n",
       "      <td>8.816010e+06</td>\n",
       "      <td>5357.697080</td>\n",
       "      <td>2785.976277</td>\n",
       "      <td>13.862226</td>\n",
       "      <td>9.362135</td>\n",
       "      <td>4.831934</td>\n",
       "      <td>30.265967</td>\n",
       "      <td>16.857299</td>\n",
       "      <td>4.785036</td>\n",
       "      <td>39.739051</td>\n",
       "      <td>1013.536223</td>\n",
       "      <td>10.766423</td>\n",
       "      <td>88.359489</td>\n",
       "      <td>74.065420</td>\n",
       "      <td>55.019161</td>\n",
       "      <td>7.641697</td>\n",
       "      <td>4.691971</td>\n",
       "      <td>0.692609</td>\n",
       "    </tr>\n",
       "    <tr>\n",
       "      <th>std</th>\n",
       "      <td>5624.904061</td>\n",
       "      <td>1093.236101</td>\n",
       "      <td>7.569560e+06</td>\n",
       "      <td>3159.017992</td>\n",
       "      <td>3066.621434</td>\n",
       "      <td>11.167880</td>\n",
       "      <td>10.433345</td>\n",
       "      <td>9.936861</td>\n",
       "      <td>11.451186</td>\n",
       "      <td>7.502697</td>\n",
       "      <td>5.302576</td>\n",
       "      <td>20.369181</td>\n",
       "      <td>53.621195</td>\n",
       "      <td>34.748361</td>\n",
       "      <td>11.322679</td>\n",
       "      <td>13.073749</td>\n",
       "      <td>16.809939</td>\n",
       "      <td>9.426344</td>\n",
       "      <td>9.717489</td>\n",
       "      <td>10.600623</td>\n",
       "    </tr>\n",
       "    <tr>\n",
       "      <th>min</th>\n",
       "      <td>222.000000</td>\n",
       "      <td>178.000000</td>\n",
       "      <td>1.428770e+05</td>\n",
       "      <td>218.000000</td>\n",
       "      <td>0.000000</td>\n",
       "      <td>-15.400000</td>\n",
       "      <td>-19.000000</td>\n",
       "      <td>-22.800000</td>\n",
       "      <td>0.000000</td>\n",
       "      <td>0.000000</td>\n",
       "      <td>0.000000</td>\n",
       "      <td>0.000000</td>\n",
       "      <td>0.000000</td>\n",
       "      <td>0.000000</td>\n",
       "      <td>0.000000</td>\n",
       "      <td>0.000000</td>\n",
       "      <td>0.000000</td>\n",
       "      <td>-18.900000</td>\n",
       "      <td>-23.300000</td>\n",
       "      <td>-27.800000</td>\n",
       "    </tr>\n",
       "    <tr>\n",
       "      <th>25%</th>\n",
       "      <td>3259.500000</td>\n",
       "      <td>1466.750000</td>\n",
       "      <td>2.780107e+06</td>\n",
       "      <td>2625.750000</td>\n",
       "      <td>392.000000</td>\n",
       "      <td>4.100000</td>\n",
       "      <td>1.000000</td>\n",
       "      <td>-2.500000</td>\n",
       "      <td>22.500000</td>\n",
       "      <td>11.600000</td>\n",
       "      <td>0.000000</td>\n",
       "      <td>35.000000</td>\n",
       "      <td>1011.600000</td>\n",
       "      <td>0.000000</td>\n",
       "      <td>81.000000</td>\n",
       "      <td>66.150000</td>\n",
       "      <td>46.000000</td>\n",
       "      <td>1.100000</td>\n",
       "      <td>-2.525000</td>\n",
       "      <td>-7.200000</td>\n",
       "    </tr>\n",
       "    <tr>\n",
       "      <th>50%</th>\n",
       "      <td>6884.500000</td>\n",
       "      <td>2333.500000</td>\n",
       "      <td>6.503272e+06</td>\n",
       "      <td>4822.500000</td>\n",
       "      <td>1570.500000</td>\n",
       "      <td>13.750000</td>\n",
       "      <td>8.800000</td>\n",
       "      <td>4.400000</td>\n",
       "      <td>27.400000</td>\n",
       "      <td>15.300000</td>\n",
       "      <td>3.200000</td>\n",
       "      <td>42.000000</td>\n",
       "      <td>1015.900000</td>\n",
       "      <td>0.000000</td>\n",
       "      <td>93.000000</td>\n",
       "      <td>75.300000</td>\n",
       "      <td>56.000000</td>\n",
       "      <td>7.200000</td>\n",
       "      <td>4.000000</td>\n",
       "      <td>0.000000</td>\n",
       "    </tr>\n",
       "    <tr>\n",
       "      <th>75%</th>\n",
       "      <td>12432.000000</td>\n",
       "      <td>3274.500000</td>\n",
       "      <td>1.332295e+07</td>\n",
       "      <td>8353.000000</td>\n",
       "      <td>4407.750000</td>\n",
       "      <td>23.825000</td>\n",
       "      <td>18.900000</td>\n",
       "      <td>13.900000</td>\n",
       "      <td>37.000000</td>\n",
       "      <td>20.400000</td>\n",
       "      <td>8.000000</td>\n",
       "      <td>52.000000</td>\n",
       "      <td>1020.900000</td>\n",
       "      <td>0.000000</td>\n",
       "      <td>100.000000</td>\n",
       "      <td>83.900000</td>\n",
       "      <td>66.000000</td>\n",
       "      <td>16.100000</td>\n",
       "      <td>13.200000</td>\n",
       "      <td>10.000000</td>\n",
       "    </tr>\n",
       "    <tr>\n",
       "      <th>max</th>\n",
       "      <td>27346.000000</td>\n",
       "      <td>4776.000000</td>\n",
       "      <td>4.486056e+07</td>\n",
       "      <td>13079.000000</td>\n",
       "      <td>15952.000000</td>\n",
       "      <td>35.500000</td>\n",
       "      <td>28.400000</td>\n",
       "      <td>23.700000</td>\n",
       "      <td>82.100000</td>\n",
       "      <td>49.100000</td>\n",
       "      <td>33.800000</td>\n",
       "      <td>96.000000</td>\n",
       "      <td>1043.900000</td>\n",
       "      <td>380.000000</td>\n",
       "      <td>100.000000</td>\n",
       "      <td>98.500000</td>\n",
       "      <td>93.000000</td>\n",
       "      <td>25.000000</td>\n",
       "      <td>22.800000</td>\n",
       "      <td>22.200000</td>\n",
       "    </tr>\n",
       "  </tbody>\n",
       "</table>\n",
       "</div>"
      ],
      "text/plain": [
       "       counts_trips  counts_Bike  trip_duration  counts_member_annual  \\\n",
       "count   1096.000000  1096.000000   1.096000e+03           1096.000000   \n",
       "mean    8143.673358  2384.500912   8.816010e+06           5357.697080   \n",
       "std     5624.904061  1093.236101   7.569560e+06           3159.017992   \n",
       "min      222.000000   178.000000   1.428770e+05            218.000000   \n",
       "25%     3259.500000  1466.750000   2.780107e+06           2625.750000   \n",
       "50%     6884.500000  2333.500000   6.503272e+06           4822.500000   \n",
       "75%    12432.000000  3274.500000   1.332295e+07           8353.000000   \n",
       "max    27346.000000  4776.000000   4.486056e+07          13079.000000   \n",
       "\n",
       "       counts_member_casual   W_Temp_Max   W_Temp_Avg   W_Temp_Min  \\\n",
       "count           1096.000000  1096.000000  1096.000000  1096.000000   \n",
       "mean            2785.976277    13.862226     9.362135     4.831934   \n",
       "std             3066.621434    11.167880    10.433345     9.936861   \n",
       "min                0.000000   -15.400000   -19.000000   -22.800000   \n",
       "25%              392.000000     4.100000     1.000000    -2.500000   \n",
       "50%             1570.500000    13.750000     8.800000     4.400000   \n",
       "75%             4407.750000    23.825000    18.900000    13.900000   \n",
       "max            15952.000000    35.500000    28.400000    23.700000   \n",
       "\n",
       "        W_Max_wind   W_Avg_wind   W_Min_wind  W_Wind_Gust  W_Air_Pressure  \\\n",
       "count  1096.000000  1096.000000  1096.000000  1096.000000     1096.000000   \n",
       "mean     30.265967    16.857299     4.785036    39.739051     1013.536223   \n",
       "std      11.451186     7.502697     5.302576    20.369181       53.621195   \n",
       "min       0.000000     0.000000     0.000000     0.000000        0.000000   \n",
       "25%      22.500000    11.600000     0.000000    35.000000     1011.600000   \n",
       "50%      27.400000    15.300000     3.200000    42.000000     1015.900000   \n",
       "75%      37.000000    20.400000     8.000000    52.000000     1020.900000   \n",
       "max      82.100000    49.100000    33.800000    96.000000     1043.900000   \n",
       "\n",
       "       W_Snow_Depth  W_Max_humid  W_Avg_humid  W_Min_humid     W_Max_Dp  \\\n",
       "count   1096.000000  1096.000000  1096.000000  1096.000000  1096.000000   \n",
       "mean      10.766423    88.359489    74.065420    55.019161     7.641697   \n",
       "std       34.748361    11.322679    13.073749    16.809939     9.426344   \n",
       "min        0.000000     0.000000     0.000000     0.000000   -18.900000   \n",
       "25%        0.000000    81.000000    66.150000    46.000000     1.100000   \n",
       "50%        0.000000    93.000000    75.300000    56.000000     7.200000   \n",
       "75%        0.000000   100.000000    83.900000    66.000000    16.100000   \n",
       "max      380.000000   100.000000    98.500000    93.000000    25.000000   \n",
       "\n",
       "          W_Avg_dp     W_Min_Dp  \n",
       "count  1096.000000  1096.000000  \n",
       "mean      4.691971     0.692609  \n",
       "std       9.717489    10.600623  \n",
       "min     -23.300000   -27.800000  \n",
       "25%      -2.525000    -7.200000  \n",
       "50%       4.000000     0.000000  \n",
       "75%      13.200000    10.000000  \n",
       "max      22.800000    22.200000  "
      ]
     },
     "execution_count": 3,
     "metadata": {},
     "output_type": "execute_result"
    }
   ],
   "source": [
    "# print descriptive statistics\n",
    "df_bike.describe()"
   ]
  },
  {
   "cell_type": "code",
   "execution_count": 4,
   "id": "19cbd719",
   "metadata": {},
   "outputs": [
    {
     "data": {
      "text/plain": [
       "Date                     object\n",
       "counts_trips              int64\n",
       "counts_Bike               int64\n",
       "trip_duration             int64\n",
       "counts_member_annual      int64\n",
       "counts_member_casual      int64\n",
       "W_Temp_Max              float64\n",
       "W_Temp_Avg              float64\n",
       "W_Temp_Min              float64\n",
       "W_Max_wind              float64\n",
       "W_Avg_wind              float64\n",
       "W_Min_wind              float64\n",
       "W_Wind_Gust               int64\n",
       "W_Air_Pressure          float64\n",
       "W_Snow_Depth              int64\n",
       "W_Max_humid               int64\n",
       "W_Avg_humid             float64\n",
       "W_Min_humid               int64\n",
       "W_Max_Dp                float64\n",
       "W_Avg_dp                float64\n",
       "W_Min_Dp                float64\n",
       "dtype: object"
      ]
     },
     "execution_count": 4,
     "metadata": {},
     "output_type": "execute_result"
    }
   ],
   "source": [
    "# check the datatypes of each variable\n",
    "df_bike.dtypes"
   ]
  },
  {
   "cell_type": "code",
   "execution_count": 63,
   "id": "939d837f",
   "metadata": {},
   "outputs": [
    {
     "data": {
      "text/html": [
       "<div>\n",
       "<style scoped>\n",
       "    .dataframe tbody tr th:only-of-type {\n",
       "        vertical-align: middle;\n",
       "    }\n",
       "\n",
       "    .dataframe tbody tr th {\n",
       "        vertical-align: top;\n",
       "    }\n",
       "\n",
       "    .dataframe thead th {\n",
       "        text-align: right;\n",
       "    }\n",
       "</style>\n",
       "<table border=\"1\" class=\"dataframe\">\n",
       "  <thead>\n",
       "    <tr style=\"text-align: right;\">\n",
       "      <th></th>\n",
       "      <th>counts_trips</th>\n",
       "      <th>counts_Bike</th>\n",
       "      <th>W_Temp_Avg</th>\n",
       "      <th>W_Avg_wind</th>\n",
       "      <th>W_Wind_Gust</th>\n",
       "      <th>W_Air_Pressure</th>\n",
       "      <th>W_Snow_Depth</th>\n",
       "      <th>W_Avg_humid</th>\n",
       "      <th>W_Avg_dp</th>\n",
       "    </tr>\n",
       "  </thead>\n",
       "  <tbody>\n",
       "    <tr>\n",
       "      <th>0</th>\n",
       "      <td>1064</td>\n",
       "      <td>674</td>\n",
       "      <td>-1.4</td>\n",
       "      <td>21.4</td>\n",
       "      <td>58</td>\n",
       "      <td>1015.1</td>\n",
       "      <td>0</td>\n",
       "      <td>85.5</td>\n",
       "      <td>-0.6</td>\n",
       "    </tr>\n",
       "    <tr>\n",
       "      <th>1</th>\n",
       "      <td>2290</td>\n",
       "      <td>1135</td>\n",
       "      <td>-4.9</td>\n",
       "      <td>11.9</td>\n",
       "      <td>0</td>\n",
       "      <td>1023.0</td>\n",
       "      <td>0</td>\n",
       "      <td>84.0</td>\n",
       "      <td>-5.1</td>\n",
       "    </tr>\n",
       "    <tr>\n",
       "      <th>2</th>\n",
       "      <td>2279</td>\n",
       "      <td>955</td>\n",
       "      <td>-1.0</td>\n",
       "      <td>18.2</td>\n",
       "      <td>46</td>\n",
       "      <td>1013.3</td>\n",
       "      <td>30</td>\n",
       "      <td>86.0</td>\n",
       "      <td>-1.9</td>\n",
       "    </tr>\n",
       "    <tr>\n",
       "      <th>3</th>\n",
       "      <td>3290</td>\n",
       "      <td>1381</td>\n",
       "      <td>3.6</td>\n",
       "      <td>18.8</td>\n",
       "      <td>54</td>\n",
       "      <td>1007.6</td>\n",
       "      <td>30</td>\n",
       "      <td>80.7</td>\n",
       "      <td>0.1</td>\n",
       "    </tr>\n",
       "    <tr>\n",
       "      <th>4</th>\n",
       "      <td>2160</td>\n",
       "      <td>1053</td>\n",
       "      <td>1.2</td>\n",
       "      <td>16.3</td>\n",
       "      <td>33</td>\n",
       "      <td>1006.1</td>\n",
       "      <td>0</td>\n",
       "      <td>83.7</td>\n",
       "      <td>-0.1</td>\n",
       "    </tr>\n",
       "  </tbody>\n",
       "</table>\n",
       "</div>"
      ],
      "text/plain": [
       "   counts_trips  counts_Bike  W_Temp_Avg  W_Avg_wind  W_Wind_Gust  \\\n",
       "0          1064          674        -1.4        21.4           58   \n",
       "1          2290         1135        -4.9        11.9            0   \n",
       "2          2279          955        -1.0        18.2           46   \n",
       "3          3290         1381         3.6        18.8           54   \n",
       "4          2160         1053         1.2        16.3           33   \n",
       "\n",
       "   W_Air_Pressure  W_Snow_Depth  W_Avg_humid  W_Avg_dp  \n",
       "0          1015.1             0         85.5      -0.6  \n",
       "1          1023.0             0         84.0      -5.1  \n",
       "2          1013.3            30         86.0      -1.9  \n",
       "3          1007.6            30         80.7       0.1  \n",
       "4          1006.1             0         83.7      -0.1  "
      ]
     },
     "execution_count": 63,
     "metadata": {},
     "output_type": "execute_result"
    }
   ],
   "source": [
    "# Define the features set.\n",
    "X = df_bike.copy()\n",
    "X = X.drop([\"W_Temp_Max\",\"W_Temp_Min\",\"W_Max_wind\",\"W_Min_wind\",\"W_Max_humid\",\"W_Min_humid\",\n",
    "           \"W_Max_Dp\",\"W_Min_Dp\",\"Date\",\"trip_duration\",\"counts_member_annual\",\"counts_member_casual\"], axis=\"columns\")\n",
    "X.head()"
   ]
  },
  {
   "cell_type": "code",
   "execution_count": 72,
   "id": "487f5771",
   "metadata": {},
   "outputs": [
    {
     "data": {
      "text/plain": [
       "array([1064, 2290, 2279, 3290, 2160], dtype=int64)"
      ]
     },
     "execution_count": 72,
     "metadata": {},
     "output_type": "execute_result"
    }
   ],
   "source": [
    "# Define the target set.\n",
    "y = df_bike[\"counts_trips\"]\n",
    "y[:5]"
   ]
  },
  {
   "cell_type": "code",
   "execution_count": 73,
   "id": "7af90c32",
   "metadata": {},
   "outputs": [],
   "source": [
    "X_train, X_test, y_train, y_test = train_test_split(X, y, random_state=1)\n",
    "scaler = StandardScaler().fit(X_train)\n",
    "X_train_scaled = scaler.transform(X_train)\n",
    "X_test_scaled = scaler.transform(X_test)"
   ]
  },
  {
   "cell_type": "code",
   "execution_count": 74,
   "id": "f584d85d",
   "metadata": {},
   "outputs": [
    {
     "name": "stdout",
     "output_type": "stream",
     "text": [
      "Training Score: 1.0\n",
      "Testing Score: 0.0\n"
     ]
    }
   ],
   "source": [
    "clf = RandomForestClassifier(random_state=1, n_estimators=100).fit(X_train_scaled, y_train)\n",
    "print(f'Training Score: {clf.score(X_train_scaled, y_train)}')\n",
    "print(f'Testing Score: {clf.score(X_test_scaled, y_test)}')"
   ]
  },
  {
   "cell_type": "code",
   "execution_count": 75,
   "id": "d5d07e95",
   "metadata": {},
   "outputs": [],
   "source": [
    "feature_importances = clf.feature_importances_"
   ]
  },
  {
   "cell_type": "code",
   "execution_count": 76,
   "id": "6b870ed4",
   "metadata": {},
   "outputs": [
    {
     "data": {
      "image/png": "[encoded data removed]",
      "text/plain": [
       "<Figure size 720x14400 with 1 Axes>"
      ]
     },
     "metadata": {
      "needs_background": "light"
     },
     "output_type": "display_data"
    }
   ],
   "source": [
    "features = sorted(zip(X.columns, clf.feature_importances_), key = lambda x: x[1])\n",
    "cols = [f[0] for f in features]\n",
    "width = [f[1] for f in features]\n",
    "\n",
    "fig, ax = plt.subplots()\n",
    "\n",
    "fig.set_size_inches(10,200)\n",
    "plt.margins(y=0.001)\n",
    "\n",
    "ax.barh(y=cols, width=width)\n",
    "\n",
    "plt.show()"
   ]
  },
  {
   "cell_type": "code",
   "execution_count": 77,
   "id": "345dd72b",
   "metadata": {},
   "outputs": [
    {
     "data": {
      "text/plain": [
       "SelectFromModel(estimator=RandomForestClassifier(random_state=1))"
      ]
     },
     "execution_count": 77,
     "metadata": {},
     "output_type": "execute_result"
    }
   ],
   "source": [
    "from sklearn.feature_selection import SelectFromModel\n",
    "sel = SelectFromModel(clf)\n",
    "sel.fit(X_train_scaled, y_train)"
   ]
  },
  {
   "cell_type": "code",
   "execution_count": 78,
   "id": "384934a8",
   "metadata": {},
   "outputs": [
    {
     "name": "stderr",
     "output_type": "stream",
     "text": [
      "C:\\Users\\S.Patel\\anaconda3\\envs\\mlenv\\lib\\site-packages\\sklearn\\base.py:439: UserWarning: X has feature names, but SelectFromModel was fitted without feature names\n",
      "  f\"X has feature names, but {self.__class__.__name__} was fitted without\"\n"
     ]
    }
   ],
   "source": [
    "X_selected_train, X_selected_test, y_train, y_test = train_test_split(sel.transform(X), y, random_state=1)\n",
    "scaler = StandardScaler().fit(X_selected_train)\n",
    "X_selected_train_scaled = scaler.transform(X_selected_train)\n",
    "X_selected_test_scaled = scaler.transform(X_selected_test)"
   ]
  },
  {
   "cell_type": "code",
   "execution_count": 79,
   "id": "3914ab00",
   "metadata": {},
   "outputs": [
    {
     "name": "stdout",
     "output_type": "stream",
     "text": [
      "Training Score: 0.24574209245742093\n",
      "Testing Score: 0.0\n"
     ]
    },
    {
     "name": "stderr",
     "output_type": "stream",
     "text": [
      "C:\\Users\\S.Patel\\anaconda3\\envs\\mlenv\\lib\\site-packages\\sklearn\\linear_model\\_logistic.py:818: ConvergenceWarning: lbfgs failed to converge (status=1):\n",
      "STOP: TOTAL NO. of ITERATIONS REACHED LIMIT.\n",
      "\n",
      "Increase the number of iterations (max_iter) or scale the data as shown in:\n",
      "    https://scikit-learn.org/stable/modules/preprocessing.html\n",
      "Please also refer to the documentation for alternative solver options:\n",
      "    https://scikit-learn.org/stable/modules/linear_model.html#logistic-regression\n",
      "  extra_warning_msg=_LOGISTIC_SOLVER_CONVERGENCE_MSG,\n"
     ]
    }
   ],
   "source": [
    "clf = LogisticRegression().fit(X_train_scaled, y_train)\n",
    "print(f'Training Score: {clf.score(X_train_scaled, y_train)}')\n",
    "print(f'Testing Score: {clf.score(X_test_scaled, y_test)}')"
   ]
  },
  {
   "cell_type": "code",
   "execution_count": 38,
   "id": "1a65f837",
   "metadata": {},
   "outputs": [],
   "source": [
    "X_train, X_test, y_train, y_test = train_test_split(X, y, random_state=123,test_size=0.2)\n"
   ]
  },
  {
   "cell_type": "code",
   "execution_count": 39,
   "id": "a0c6260d",
   "metadata": {
    "scrolled": true
   },
   "outputs": [
    {
     "data": {
      "text/plain": [
       "(876, 7)"
      ]
     },
     "execution_count": 39,
     "metadata": {},
     "output_type": "execute_result"
    }
   ],
   "source": [
    "X_train.shape"
   ]
  },
  {
   "cell_type": "code",
   "execution_count": 40,
   "id": "1c0e43fa",
   "metadata": {},
   "outputs": [
    {
     "data": {
      "text/plain": [
       "(220, 7)"
      ]
     },
     "execution_count": 40,
     "metadata": {},
     "output_type": "execute_result"
    }
   ],
   "source": [
    "X_test.shape"
   ]
  },
  {
   "cell_type": "code",
   "execution_count": 41,
   "id": "c666ba57",
   "metadata": {},
   "outputs": [],
   "source": [
    "scaler = StandardScaler()\n",
    "train_scaled = scaler.fit_transform(X_train)"
   ]
  },
  {
   "cell_type": "code",
   "execution_count": 42,
   "id": "b2e4a048",
   "metadata": {},
   "outputs": [],
   "source": [
    "test_scaled = scaler.transform(X_test)"
   ]
  },
  {
   "cell_type": "code",
   "execution_count": 43,
   "id": "0fef6b18",
   "metadata": {},
   "outputs": [],
   "source": [
    "tree_model = DecisionTreeRegressor()\n",
    "rf_model = RandomForestRegressor()"
   ]
  },
  {
   "cell_type": "code",
   "execution_count": 44,
   "id": "323860a3",
   "metadata": {},
   "outputs": [
    {
     "data": {
      "text/plain": [
       "RandomForestRegressor()"
      ]
     },
     "execution_count": 44,
     "metadata": {},
     "output_type": "execute_result"
    }
   ],
   "source": [
    "tree_model.fit(train_scaled, y_train)\n",
    "rf_model.fit(train_scaled, y_train)"
   ]
  },
  {
   "cell_type": "code",
   "execution_count": 45,
   "id": "4ebcb1c6",
   "metadata": {},
   "outputs": [],
   "source": [
    "from sklearn.metrics import mean_squared_error\n",
    "from sklearn.metrics import mean_absolute_error"
   ]
  },
  {
   "cell_type": "code",
   "execution_count": 46,
   "id": "6116763a",
   "metadata": {},
   "outputs": [],
   "source": [
    "tree_mse = mean_squared_error(y_train, tree_model.predict(train_scaled))\n",
    "tree_mae = mean_absolute_error(y_train, tree_model.predict(train_scaled))\n",
    "rf_mse = mean_squared_error(y_train, rf_model.predict(train_scaled))\n",
    "rf_mae = mean_absolute_error(y_train, rf_model.predict(train_scaled))"
   ]
  },
  {
   "cell_type": "code",
   "execution_count": 47,
   "id": "8d21d3cb",
   "metadata": {},
   "outputs": [],
   "source": [
    "from math import sqrt"
   ]
  },
  {
   "cell_type": "code",
   "execution_count": 48,
   "id": "e53777ca",
   "metadata": {},
   "outputs": [
    {
     "name": "stdout",
     "output_type": "stream",
     "text": [
      "Decision Tree training mse =  0.0  & mae =  0.0  & rmse =  0.0\n",
      "Random Forest training mse =  1146519.5869942922  & mae =  745.5278310502283  & rmse =  1070.75654889162\n"
     ]
    }
   ],
   "source": [
    "print(\"Decision Tree training mse = \",tree_mse,\" & mae = \",tree_mae,\" & rmse = \", sqrt(tree_mse))\n",
    "print(\"Random Forest training mse = \",rf_mse,\" & mae = \",rf_mae,\" & rmse = \", sqrt(rf_mse))"
   ]
  },
  {
   "cell_type": "code",
   "execution_count": 86,
   "id": "1b18901a",
   "metadata": {},
   "outputs": [],
   "source": [
    "tree_test_mse = mean_squared_error(y_test, tree_model.predict(test_scaled))\n",
    "tree_test_mae = mean_absolute_error(y_test, tree_model.predict(test_scaled))\n",
    "rf_test_mse = mean_squared_error(y_test, rf_model.predict(test_scaled))\n",
    "rf_test_mae = mean_absolute_error(y_test, rf_model.predict(test_scaled))"
   ]
  },
  {
   "cell_type": "code",
   "execution_count": null,
   "id": "d49ff966",
   "metadata": {},
   "outputs": [],
   "source": []
  }
 ],
 "metadata": {
  "kernelspec": {
   "display_name": "mlenv",
   "language": "python",
   "name": "mlenv"
  },
  "language_info": {
   "codemirror_mode": {
    "name": "ipython",
    "version": 3
   },
   "file_extension": ".py",
   "mimetype": "text/x-python",
   "name": "python",
   "nbconvert_exporter": "python",
   "pygments_lexer": "ipython3",
   "version": "3.7.11"
  }
 },
 "nbformat": 4,
 "nbformat_minor": 5
}
